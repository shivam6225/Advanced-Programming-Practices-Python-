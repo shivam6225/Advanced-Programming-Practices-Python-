{
 "cells": [
  {
   "cell_type": "markdown",
   "id": "f24ed08a",
   "metadata": {},
   "source": [
    " #### 1.Given a string, find its mirroring image\n",
    " "
   ]
  },
  {
   "cell_type": "code",
   "execution_count": 8,
   "id": "afe714d7",
   "metadata": {},
   "outputs": [
    {
     "name": "stdout",
     "output_type": "stream",
     "text": [
      "Enter the string: shivam\n",
      "Mirrored string: hsrezn"
     ]
    }
   ],
   "source": [
    "str1=str(input(\"Enter the string: \"))\n",
    "print(\"Mirrored string: \",end=\"\")\n",
    "for ch in str1:\n",
    "    k=ord(ch)-97\n",
    "    m=(122-k)\n",
    "    print(chr(m),end=\"\")\n"
   ]
  },
  {
   "cell_type": "markdown",
   "id": "1fd198e7",
   "metadata": {},
   "source": [
    "#### 2.Check if two strings are Rotationally Equivalent\n",
    "\n",
    "#### Sample Output\n",
    "\n",
    "#### string 1 is : srmist\n",
    "\n",
    "#### string 2 is : tsrmis\n",
    "\n",
    "#### Are two strings Rotationally equal ? : True"
   ]
  },
  {
   "cell_type": "code",
   "execution_count": 5,
   "id": "1e89f3fe",
   "metadata": {},
   "outputs": [
    {
     "name": "stdout",
     "output_type": "stream",
     "text": [
      "Enter the string 1: shivam\n",
      "Enter the string 2: mshiva\n",
      "Rotational Equivalent: True\n"
     ]
    }
   ],
   "source": [
    "str1=str(input(\"Enter the string 1: \"))\n",
    "str2=str(input(\"Enter the string 2: \"))\n",
    "\n",
    "check=False\n",
    "for ch in range(len(str1)):\n",
    "    if str1[ch:]+str1[:ch]==str2:\n",
    "        check=True\n",
    "        break\n",
    "print(\"Rotational Equivalent:\",check)"
   ]
  },
  {
   "cell_type": "markdown",
   "id": "7186f0bd",
   "metadata": {},
   "source": [
    "#### 3.Given a number n, the task is to generate a random binary string of length n."
   ]
  },
  {
   "cell_type": "code",
   "execution_count": 13,
   "id": "563ac0cd",
   "metadata": {},
   "outputs": [
    {
     "name": "stdout",
     "output_type": "stream",
     "text": [
      "Enter the length of Binary number: 8\n",
      "01101000"
     ]
    }
   ],
   "source": [
    "import random\n",
    "\n",
    "num=int(input(\"Enter the length of Binary number: \"))\n",
    "\n",
    "for i in range(0,num):\n",
    "    rndbin=random.randint(0,1)\n",
    "    print(rndbin,end=\"\")\n"
   ]
  },
  {
   "cell_type": "markdown",
   "id": "51c37b8b",
   "metadata": {},
   "source": [
    "#### 4.Given a string , remove punctuation and any special character"
   ]
  },
  {
   "cell_type": "code",
   "execution_count": 40,
   "id": "950aa48a",
   "metadata": {},
   "outputs": [
    {
     "name": "stdout",
     "output_type": "stream",
     "text": [
      "Enter your String: shivam@1234#srmist.edu\n",
      "shivam1234srmistedu\n"
     ]
    }
   ],
   "source": [
    "str1=str(input(\"Enter your String: \"))\n",
    "str1=[ch for ch in str1 if ch.isalpha() or ch.isdigit()]\n",
    "str2=\"\"\n",
    "for i in str1:\n",
    "    str2+=i\n",
    "print(str2)"
   ]
  },
  {
   "cell_type": "markdown",
   "id": "20f72ed6",
   "metadata": {},
   "source": [
    "#### 5.Write a Python program to compute element-wise sum of given tuples.\n",
    "\n",
    "#### Input\n",
    "\n",
    "#### (11, 2, 3, 14)\n",
    "\n",
    "#### (13, 5, 22, 10)\n",
    "\n",
    "#### (12, 2, 3, 10)\n",
    "\n",
    "#### Output\n",
    "\n",
    "#### (36, 9, 28, 34)"
   ]
  },
  {
   "cell_type": "code",
   "execution_count": 2,
   "id": "d0b32934",
   "metadata": {},
   "outputs": [
    {
     "name": "stdout",
     "output_type": "stream",
     "text": [
      "(36, 9, 28, 34)\n"
     ]
    }
   ],
   "source": [
    "tup1=(11,2,3,14)\n",
    "tup2=(13,5,22,10)\n",
    "tup3=(12,2,3,10)\n",
    "List=[]\n",
    "for i in range(0,4):\n",
    "    List.append(tup1[i]+tup2[i]+tup3[i])\n",
    "\n",
    "print(tuple(List))\n"
   ]
  },
  {
   "cell_type": "markdown",
   "id": "a0dc2db5",
   "metadata": {},
   "source": [
    "#### 6.Write a Python program to remove an empty tuple(s) from a list of tuples."
   ]
  },
  {
   "cell_type": "code",
   "execution_count": 41,
   "id": "e0115e01",
   "metadata": {
    "scrolled": true
   },
   "outputs": [
    {
     "name": "stdout",
     "output_type": "stream",
     "text": [
      "['HI', (1, 2, 3, 4), 'Not empty']\n"
     ]
    }
   ],
   "source": [
    "List=[(),('HI'),(1,2,3,4),(),('Not empty')]\n",
    "List=[i for i in List if i]\n",
    "print(List)"
   ]
  },
  {
   "cell_type": "markdown",
   "id": "552a44c6",
   "metadata": {},
   "source": [
    "#### 7.Write a Python program to count the elements in a list until an element is a tuple"
   ]
  },
  {
   "cell_type": "code",
   "execution_count": 1,
   "id": "57b5e5df",
   "metadata": {},
   "outputs": [
    {
     "name": "stdout",
     "output_type": "stream",
     "text": [
      "No. of elements before tuple is encountered in List: \n",
      "4\n"
     ]
    }
   ],
   "source": [
    "List=[23,\"Shivam\",45,\"Hi\",(23,45),100,\"Prakhar\"]\n",
    "count=0\n",
    "print(\"No. of elements before tuple is encountered in List: \")\n",
    "for i in List:\n",
    "    tup_res=type(i) is tuple\n",
    "    if tup_res == True:\n",
    "        break\n",
    "    else:\n",
    "        count+=1\n",
    "print(count)"
   ]
  },
  {
   "cell_type": "markdown",
   "id": "06257cd7",
   "metadata": {},
   "source": [
    "#### 8.Write a Python program to Convert Tuple Matrix to Tuple List"
   ]
  },
  {
   "cell_type": "code",
   "execution_count": 3,
   "id": "daecf4fb",
   "metadata": {},
   "outputs": [
    {
     "name": "stdout",
     "output_type": "stream",
     "text": [
      "[(23, 45, 31, 38), (35, 67, 25, 90)]\n"
     ]
    }
   ],
   "source": [
    "from itertools import chain\n",
    "\n",
    "tuple_Matrix=[[(23,35),(45,67)],[(31,25),(38,90)]]\n",
    "tuple_list= list(zip(*chain.from_iterable(tuple_Matrix)))\n",
    "print(tuple_list)"
   ]
  },
  {
   "cell_type": "markdown",
   "id": "3937a360",
   "metadata": {},
   "source": [
    "#### 9.Write a Python program to count unique values in the list."
   ]
  },
  {
   "cell_type": "code",
   "execution_count": 1,
   "id": "49dda81c",
   "metadata": {},
   "outputs": [
    {
     "name": "stdout",
     "output_type": "stream",
     "text": [
      "4\n"
     ]
    }
   ],
   "source": [
    "List=[2,10,\"Shivam\",\"Hi\",10,\"Hi\"]\n",
    "List2=[]\n",
    "count=0\n",
    "for ch in List:\n",
    "    if ch not in List2:\n",
    "        count+=1\n",
    "        List2.append(ch)\n",
    "print(count)"
   ]
  },
  {
   "cell_type": "markdown",
   "id": "bbde5c25",
   "metadata": {},
   "source": [
    "#### 10.Python Program to print all Possible Combinations from the three Digits"
   ]
  },
  {
   "cell_type": "code",
   "execution_count": 6,
   "id": "2055678b",
   "metadata": {
    "scrolled": false
   },
   "outputs": [
    {
     "name": "stdout",
     "output_type": "stream",
     "text": [
      "Enter the digit:3\n",
      "Enter the digit:4\n",
      "Enter the digit:5\n",
      "345\n",
      "354\n",
      "435\n",
      "453\n",
      "534\n",
      "543\n"
     ]
    }
   ],
   "source": [
    "num=[]\n",
    "for i in range(0,3):\n",
    "    c=int(input(\"Enter the digit:\"))\n",
    "    num.append(c)\n",
    "for i in num:\n",
    "    for j in num:\n",
    "        for k in num:\n",
    "            if(i!=k and k!=j and i!=j):\n",
    "                print(i,end=\"\")\n",
    "                print(j,end=\"\")\n",
    "                print(k)"
   ]
  },
  {
   "cell_type": "markdown",
   "id": "51c85787",
   "metadata": {},
   "source": [
    "#### 11.Write a Python program (using function) to print the even numbers from a given list.\n",
    "\n",
    "#### Note : function type - with arguments but no return values"
   ]
  },
  {
   "cell_type": "code",
   "execution_count": 4,
   "id": "06b31a5a",
   "metadata": {},
   "outputs": [
    {
     "name": "stdout",
     "output_type": "stream",
     "text": [
      "Even numbers in List: \n",
      "2 34 28 100 "
     ]
    }
   ],
   "source": [
    "def geteven(List):\n",
    "    print(\"Even numbers in List: \")\n",
    "    for n in List:\n",
    "        if n%2==0:\n",
    "            print(n,end=\" \")\n",
    "\n",
    "List=[2,34,57,89,28,100]\n",
    "geteven(List)"
   ]
  },
  {
   "cell_type": "markdown",
   "id": "31f7fd5f",
   "metadata": {},
   "source": [
    "#### 12.Write a Python function (using function) that checks whether a passed string is palindrome or not."
   ]
  },
  {
   "cell_type": "code",
   "execution_count": 4,
   "id": "e01a928e",
   "metadata": {},
   "outputs": [
    {
     "name": "stdout",
     "output_type": "stream",
     "text": [
      "Enter the String: jalaj\n",
      "String is Palindrome\n"
     ]
    }
   ],
   "source": [
    "def chkpalindrome(str1):\n",
    "    str2=str1[::-1]\n",
    "    if str2==str1:\n",
    "        print(\"String is Palindrome\")\n",
    "    else:\n",
    "        print(\"String is not Palindrome\")\n",
    "\n",
    "str1=input(\"Enter the String: \")\n",
    "chkpalindrome(str1)\n",
    "    "
   ]
  },
  {
   "cell_type": "markdown",
   "id": "3940c071",
   "metadata": {},
   "source": [
    "#### 13.Write a Python function (using function) that checks whether a given number is prime or not"
   ]
  },
  {
   "cell_type": "code",
   "execution_count": 7,
   "id": "2d679bfd",
   "metadata": {},
   "outputs": [
    {
     "name": "stdout",
     "output_type": "stream",
     "text": [
      "Enter the Number: 28\n",
      "Number is not Prime\n"
     ]
    }
   ],
   "source": [
    "def chkprime(num):\n",
    "    div=0\n",
    "    for i in range(1,num):\n",
    "        if num%i==0:\n",
    "            div+=1\n",
    "    if div==1:\n",
    "        print(\"Number is Prime\")\n",
    "    else:\n",
    "        print(\"Number is not Prime\")\n",
    "\n",
    "num=int(input(\"Enter the Number: \"))\n",
    "chkprime(num)\n",
    "        \n",
    "\n"
   ]
  }
 ],
 "metadata": {
  "kernelspec": {
   "display_name": "Python 3 (ipykernel)",
   "language": "python",
   "name": "python3"
  },
  "language_info": {
   "codemirror_mode": {
    "name": "ipython",
    "version": 3
   },
   "file_extension": ".py",
   "mimetype": "text/x-python",
   "name": "python",
   "nbconvert_exporter": "python",
   "pygments_lexer": "ipython3",
   "version": "3.9.7"
  }
 },
 "nbformat": 4,
 "nbformat_minor": 5
}
