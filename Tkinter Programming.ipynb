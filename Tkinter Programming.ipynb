{
 "cells": [
  {
   "cell_type": "markdown",
   "id": "544883c5",
   "metadata": {},
   "source": [
    "### Design the front end using Python (APP Exp 4)"
   ]
  },
  {
   "cell_type": "code",
   "execution_count": null,
   "id": "a0e5b241",
   "metadata": {},
   "outputs": [],
   "source": [
    "import tkinter as tk\n",
    "root = tk.Tk()\n",
    "root.geometry(\"450x300\")\n",
    "label1 = tk.Label(root,text=\"Contact List\")\n",
    "label1.grid(row=0,column=1)\n",
    "\n",
    "label2 = tk.Label(root,text=\"New Contact\")\n",
    "label2.grid(row=0,column=4)\n",
    "\n",
    "entry1= tk.Entry(root)\n",
    "entry1.grid(row=1,column=1,rowspan=6,ipady=50)\n",
    "button1 = tk.Button(root,text=\"Display Contact\",command=root.destroy)\n",
    "button1.grid(row=7,column=1)\n",
    "\n",
    "label3 = tk.Label(root,text=\"First Name:\")\n",
    "label3.grid(row=1,column=3,ipadx=20,sticky='e')\n",
    "entry2= tk.Entry(root)\n",
    "entry2.grid(row=1,column=4)\n",
    "\n",
    "label4 = tk.Label(root,text=\"Last Name:\")\n",
    "label4.grid(row=2,column=3,ipadx=20,sticky='e')\n",
    "entry3= tk.Entry(root)\n",
    "entry3.grid(row=2,column=4)\n",
    "\n",
    "label5 = tk.Label(root,text=\"Phone#:\")\n",
    "label5.grid(row=3,column=3,ipadx=20,sticky='e')\n",
    "entry4= tk.Entry(root)\n",
    "entry4.grid(row=3,column=4)\n",
    "\n",
    "cb = tk.Checkbutton(root,text=\"Friend\")\n",
    "cb.grid(row=4,column=4,sticky='w')\n",
    "\n",
    "label6 = tk.Label(root,text=\"Email:\")\n",
    "label6.grid(row=5,column=3,ipadx=20,sticky='e')\n",
    "entry5= tk.Entry(root)\n",
    "entry5.grid(row=5,column=4)\n",
    "\n",
    "label7 = tk.Label(root,text=\"Birthday:\")\n",
    "label7.grid(row=6,column=3,ipadx=20,sticky='e')\n",
    "entry6= tk.Entry(root)\n",
    "entry6.grid(row=6,column=4)\n",
    "Button3 = tk.Button(root,text=\"Add Contact\",command=root.destroy)\n",
    "Button3.grid(row=7,column=4,sticky='e')\n",
    "\n",
    "label8 = tk.Label(root,text=\"\\n\")\n",
    "label8.grid(row=8)\n",
    "\n",
    "label9 = tk.Label(root,text=\"Last Name:\")\n",
    "label9.grid(row=9)\n",
    "entry7= tk.Entry(root)\n",
    "entry7.grid(row=9,column=1)\n",
    "button2 = tk.Button(root,text=\"Search\",command=root.destroy)\n",
    "button2.grid(row=10,column=1)\n",
    "\n",
    "label10 = tk.Label(root,text=\"Result:\")\n",
    "label10.grid(row=9,column=4)\n",
    "label11 = tk.Label(root,text=\"Last,First:\")\n",
    "label11.grid(row=10,column=4)\n",
    "label12 = tk.Label(root,text=\"Phone:\")\n",
    "label12.grid(row=11,column=4)\n",
    "\n",
    "root.mainloop()"
   ]
  },
  {
   "cell_type": "code",
   "execution_count": null,
   "id": "8058643d",
   "metadata": {},
   "outputs": [],
   "source": []
  }
 ],
 "metadata": {
  "kernelspec": {
   "display_name": "Python 3 (ipykernel)",
   "language": "python",
   "name": "python3"
  },
  "language_info": {
   "codemirror_mode": {
    "name": "ipython",
    "version": 3
   },
   "file_extension": ".py",
   "mimetype": "text/x-python",
   "name": "python",
   "nbconvert_exporter": "python",
   "pygments_lexer": "ipython3",
   "version": "3.9.7"
  }
 },
 "nbformat": 4,
 "nbformat_minor": 5
}
