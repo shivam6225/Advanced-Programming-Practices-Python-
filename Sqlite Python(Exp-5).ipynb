{
 "cells": [
  {
   "cell_type": "markdown",
   "id": "162f2665",
   "metadata": {},
   "source": [
    "1.Create the below table and execute the insert, update and the below select statements."
   ]
  },
  {
   "cell_type": "code",
   "execution_count": 2,
   "id": "9df874d2",
   "metadata": {},
   "outputs": [
    {
     "name": "stdout",
     "output_type": "stream",
     "text": [
      "Database created succesfully\n",
      "Table created successfully\n"
     ]
    }
   ],
   "source": [
    "import sqlite3\n",
    "conn = sqlite3.connect('test.db')\n",
    "print(\"Database created succesfully\")\n",
    "conn.execute('''CREATE TABLE CHEF123\n",
    " (ID INT PRIMARY KEY NOT NULL,\n",
    " NAME char(400) NOT NULL,\n",
    " DESCRIPTION TEXT NOT NULL,\n",
    " CATEGORY_ID INT NOT NULL,\n",
    " CHEF_ID INT NOT NULL,\n",
    " CREATED DATETIME)''')\n",
    "print(\"Table created successfully\")\n",
    "conn.close()"
   ]
  },
  {
   "cell_type": "code",
   "execution_count": null,
   "id": "4ec0349a",
   "metadata": {},
   "outputs": [],
   "source": []
  },
  {
   "cell_type": "code",
   "execution_count": 33,
   "id": "de7c5325",
   "metadata": {
    "scrolled": true
   },
   "outputs": [
    {
     "name": "stdout",
     "output_type": "stream",
     "text": [
      "Records created\n"
     ]
    }
   ],
   "source": [
    "import sqlite3\n",
    "conn = sqlite3.connect('test.db')\n",
    "conn.execute(\"INSERT INTO CHEF123 VALUES (1,'PAV-BHAJI','INDIAN',25,1020,'2021-10-25 12:10::34')\")\n",
    "conn.execute(\"INSERT INTO CHEF123 VALUES (2,'FRIES','FRENCH',32,1050,'2021-08-15 08:10:24')\")\n",
    "conn.execute(\"INSERT INTO CHEF123 VALUES (3,'NOODLES','CHINESE',29,1030,'2021-03-09 16:30:12')\")\n",
    "conn.commit()\n",
    "print(\"Records created\")\n",
    "conn.close()"
   ]
  },
  {
   "cell_type": "markdown",
   "id": "b02bc6f6",
   "metadata": {},
   "source": [
    "i) Write a query to display the total number of recipes available with the description\n",
    "“Chinese”"
   ]
  },
  {
   "cell_type": "code",
   "execution_count": 34,
   "id": "7cfdea95",
   "metadata": {},
   "outputs": [
    {
     "name": "stdout",
     "output_type": "stream",
     "text": [
      "(3, 'NOODLES', 'CHINESE', 29, 1030, '2021-03-09 16:30:12')\n"
     ]
    }
   ],
   "source": [
    "import sqlite3\n",
    "conn =sqlite3.connect('test.db')\n",
    "cursor=conn.execute(\"SELECT * FROM CHEF123 where DESCRIPTION='CHINESE'\")\n",
    "\n",
    "for i in cursor:\n",
    "    print(i)"
   ]
  },
  {
   "cell_type": "markdown",
   "id": "c9548090",
   "metadata": {},
   "source": [
    "ii) Write a query to display the id, name of the recipes with chef_id '1050'."
   ]
  },
  {
   "cell_type": "code",
   "execution_count": 37,
   "id": "0b604944",
   "metadata": {},
   "outputs": [
    {
     "name": "stdout",
     "output_type": "stream",
     "text": [
      "(2, 'FRIES', 1050)\n"
     ]
    }
   ],
   "source": [
    "import sqlite3\n",
    "conn =sqlite3.connect('test.db')\n",
    "cursor=conn.execute(\"SELECT ID, NAME ,CHEF_ID FROM CHEF123 where CHEF_ID=1050\")\n",
    "\n",
    "for i in cursor:\n",
    "    print(i)"
   ]
  },
  {
   "cell_type": "markdown",
   "id": "476d7939",
   "metadata": {},
   "source": [
    "iii) Write a query to display the description of the recipes whose name begins with 'P'."
   ]
  },
  {
   "cell_type": "code",
   "execution_count": 53,
   "id": "ee12e202",
   "metadata": {},
   "outputs": [
    {
     "name": "stdout",
     "output_type": "stream",
     "text": [
      "('INDIAN',)\n"
     ]
    }
   ],
   "source": [
    "import sqlite3\n",
    "conn =sqlite3.connect('test.db')\n",
    "cursor=conn.execute(\"SELECT DESCRIPTION FROM CHEF123 where NAME like 'P%'\")\n",
    "\n",
    "for i in cursor:\n",
    "    print(i)"
   ]
  },
  {
   "cell_type": "markdown",
   "id": "92ad279b",
   "metadata": {},
   "source": [
    "2.Create a table movie of the below structure and assume data types.Movie_ID,\n",
    "Movie_Name, Genre, Language, Rating ,Do the following queries"
   ]
  },
  {
   "cell_type": "code",
   "execution_count": 3,
   "id": "c98f25dc",
   "metadata": {},
   "outputs": [
    {
     "name": "stdout",
     "output_type": "stream",
     "text": [
      "Database created succesfully\n",
      "Table created successfully\n"
     ]
    }
   ],
   "source": [
    "import sqlite3\n",
    "conn = sqlite3.connect('test.db')\n",
    "print(\"Database created succesfully\")\n",
    "conn.execute('''CREATE TABLE MOVIEINF\n",
    " (MOVIE_ID INT PRIMARY KEY NOT NULL,\n",
    " MOVIE_NAME char(400) NOT NULL,\n",
    " GENRE TEXT NOT NULL,\n",
    " LANGUAGE char(50) NOT NULL,\n",
    " RATINGS REAL NOT NULL)''')\n",
    "print(\"Table created successfully\")\n",
    "conn.close()"
   ]
  },
  {
   "cell_type": "code",
   "execution_count": 4,
   "id": "a3e95be2",
   "metadata": {},
   "outputs": [
    {
     "name": "stdout",
     "output_type": "stream",
     "text": [
      "Records created\n"
     ]
    }
   ],
   "source": [
    "import sqlite3\n",
    "conn = sqlite3.connect('test.db')\n",
    "conn.execute(\"INSERT INTO MOVIEINF VALUES (004,'Avengers:AOU','ACTION','ENGLISH',4.5)\")\n",
    "conn.execute(\"INSERT INTO MOVIEINF VALUES (102,'Stree','HORROR','HINDI',3.1)\")\n",
    "conn.execute(\"INSERT INTO MOVIEINF VALUES (304,'Parasite','THRILLER','KOREAN',4.2)\")\n",
    "conn.commit()\n",
    "print(\"Records created\")\n",
    "conn.close()"
   ]
  },
  {
   "cell_type": "markdown",
   "id": "399d9ff5",
   "metadata": {},
   "source": [
    "a. Update the movies rating by 10% and display it"
   ]
  },
  {
   "cell_type": "code",
   "execution_count": 6,
   "id": "837e6b5a",
   "metadata": {},
   "outputs": [
    {
     "name": "stdout",
     "output_type": "stream",
     "text": [
      "Opened database successfully\n",
      "Total number of rows updated : 3\n"
     ]
    }
   ],
   "source": [
    "import sqlite3\n",
    "\n",
    "conn = sqlite3.connect('test.db')\n",
    "print(\"Opened database successfully\")\n",
    "\n",
    "conn.execute(\"UPDATE MOVIEINF set RATINGS = RATINGS+(RATINGS*0.1)\")\n",
    "conn.commit()\n",
    "print(\"Total number of rows updated :\", conn.total_changes)"
   ]
  },
  {
   "cell_type": "code",
   "execution_count": 7,
   "id": "8df934f0",
   "metadata": {},
   "outputs": [
    {
     "name": "stdout",
     "output_type": "stream",
     "text": [
      "(4, 'Avengers:AOU', 'ACTION', 'ENGLISH', 4.95)\n",
      "(102, 'Stree', 'HORROR', 'HINDI', 3.41)\n",
      "(304, 'Parasite', 'THRILLER', 'KOREAN', 4.62)\n"
     ]
    }
   ],
   "source": [
    "import sqlite3\n",
    "conn =sqlite3.connect('test.db')\n",
    "cursor=conn.execute(\"SELECT * FROM MOVIEINF\")\n",
    "\n",
    "for i in cursor:\n",
    "    print(i)"
   ]
  },
  {
   "cell_type": "markdown",
   "id": "5986e611",
   "metadata": {},
   "source": [
    "b. Delete the movies with movie_id 102"
   ]
  },
  {
   "cell_type": "code",
   "execution_count": 9,
   "id": "deda87c0",
   "metadata": {},
   "outputs": [
    {
     "name": "stdout",
     "output_type": "stream",
     "text": [
      "Opened database successfully\n",
      "(4, 'Avengers:AOU', 'ACTION', 'ENGLISH', 4.95)\n",
      "(304, 'Parasite', 'THRILLER', 'KOREAN', 4.62)\n"
     ]
    }
   ],
   "source": [
    "import sqlite3\n",
    "\n",
    "conn = sqlite3.connect('test.db')\n",
    "print(\"Opened database successfully\")\n",
    "\n",
    "conn.execute(\"DELETE from MOVIEINF where MOVIE_ID = 102;\")\n",
    "conn.commit()\n",
    "\n",
    "cursor=conn.execute(\"SELECT * FROM MOVIEINF\")\n",
    "\n",
    "for i in cursor:\n",
    "    print(i)"
   ]
  },
  {
   "cell_type": "markdown",
   "id": "f03f8ca5",
   "metadata": {},
   "source": [
    "c. Select movies whose rating is more than 4."
   ]
  },
  {
   "cell_type": "code",
   "execution_count": 10,
   "id": "ef838bbd",
   "metadata": {},
   "outputs": [
    {
     "name": "stdout",
     "output_type": "stream",
     "text": [
      "(4, 'Avengers:AOU', 'ACTION', 'ENGLISH', 4.95)\n",
      "(304, 'Parasite', 'THRILLER', 'KOREAN', 4.62)\n"
     ]
    }
   ],
   "source": [
    "import sqlite3\n",
    "conn =sqlite3.connect('test.db')\n",
    "cursor=conn.execute(\"SELECT * FROM MOVIEINF where RATINGS>=4\")\n",
    "\n",
    "for i in cursor:\n",
    "    print(i)"
   ]
  },
  {
   "cell_type": "markdown",
   "id": "76fead7d",
   "metadata": {},
   "source": [
    "3.Create a course database with the following fields Product(ID, Prod_name,\n",
    "Supplier_id,Unit_price,Package,OrderID),OrderItem(ID,Order_id,Product_id,Unit_price,\n",
    "Quantity) using Foreign key"
   ]
  },
  {
   "cell_type": "code",
   "execution_count": 2,
   "id": "067b5d2b",
   "metadata": {},
   "outputs": [
    {
     "name": "stdout",
     "output_type": "stream",
     "text": [
      "Database created succesfully\n",
      "Table created successfully\n"
     ]
    }
   ],
   "source": [
    "import sqlite3\n",
    "conn = sqlite3.connect('test.db')\n",
    "print(\"Database created succesfully\")\n",
    "conn.execute('''CREATE TABLE PRODUCT\n",
    " (ID INT PRIMARY KEY NOT NULL,\n",
    " PROD_NAME TEXT NOT NULL,\n",
    " SUPPLIER_ID INT NOT NULL,\n",
    " UNIT_PRICE REAL NOT NULL,\n",
    " PACKAGE TEXT NOT NULL,\n",
    " ORDER_ID INT NOT NULL)''')\n",
    "print(\"Table created successfully\")\n",
    "conn.close()"
   ]
  },
  {
   "cell_type": "code",
   "execution_count": 1,
   "id": "3f03b2c8",
   "metadata": {},
   "outputs": [
    {
     "name": "stdout",
     "output_type": "stream",
     "text": [
      "Records created\n"
     ]
    }
   ],
   "source": [
    "import sqlite3\n",
    "conn = sqlite3.connect('test.db')\n",
    "conn.execute(\"INSERT INTO PRODUCT VALUES (1001,'BISCUITS',21011,75.00,'KELLOGS',123)\")\n",
    "conn.execute(\"INSERT INTO PRODUCT VALUES (1350,'LAYS',30020,50.00,'PARLE',109)\")\n",
    "conn.execute(\"INSERT INTO PRODUCT VALUES (1203,'CAKE',56700,150.00,'HUL',203)\")\n",
    "conn.commit()\n",
    "print(\"Records created\")\n",
    "conn.close()"
   ]
  },
  {
   "cell_type": "code",
   "execution_count": 3,
   "id": "9fdb7150",
   "metadata": {},
   "outputs": [
    {
     "name": "stdout",
     "output_type": "stream",
     "text": [
      "Database created succesfully\n",
      "Table created successfully\n"
     ]
    }
   ],
   "source": [
    "import sqlite3\n",
    "conn = sqlite3.connect('test.db')\n",
    "print(\"Database created succesfully\")\n",
    "conn.execute('''CREATE TABLE ORDERITEM\n",
    " (ID INT PRIMARY KEY NOT NULL,\n",
    " ORDER_ID INT NOT NULL,\n",
    " PRODUCT_ID INT NOT NULL,\n",
    " UNIT_PRICE REAL NOT NULL,\n",
    " QUANTITY INT NOT NULL,\n",
    " FOREIGN KEY(ORDER_ID) REFERENCES PRODUCT (ORDER_ID),\n",
    " FOREIGN KEY(PRODUCT_ID) REFERENCES PRODUCT (ID))''')\n",
    "print(\"Table created successfully\")\n",
    "conn.close()"
   ]
  },
  {
   "cell_type": "code",
   "execution_count": 4,
   "id": "6e1f2c5b",
   "metadata": {},
   "outputs": [
    {
     "name": "stdout",
     "output_type": "stream",
     "text": [
      "Records created\n"
     ]
    }
   ],
   "source": [
    "import sqlite3\n",
    "conn = sqlite3.connect('test.db')\n",
    "conn.execute(\"INSERT INTO ORDERITEM VALUES (134,109,1350,50.00,4)\")\n",
    "conn.execute(\"INSERT INTO ORDERITEM VALUES (123,203,1203,150.00,6)\")\n",
    "conn.execute(\"INSERT INTO ORDERITEM VALUES (101,123,1001,75.00,5)\")\n",
    "conn.commit()\n",
    "print(\"Records created\")\n",
    "conn.close()"
   ]
  },
  {
   "cell_type": "markdown",
   "id": "b700e8ee",
   "metadata": {},
   "source": [
    "4.Write a SQL lite3 statement to create a table named as job including columns\n",
    "job_id,job_title,Min-salary,Max_salary.job_id column does not contain any duplicate\n",
    "value at the time of insertion"
   ]
  },
  {
   "cell_type": "code",
   "execution_count": 1,
   "id": "c836d8d4",
   "metadata": {},
   "outputs": [
    {
     "name": "stdout",
     "output_type": "stream",
     "text": [
      "Database created succesfully\n",
      "Table created successfully\n"
     ]
    }
   ],
   "source": [
    "import sqlite3\n",
    "conn = sqlite3.connect('test.db')\n",
    "print(\"Database created succesfully\")\n",
    "conn.execute('''CREATE TABLE JOB123\n",
    " (JOB_ID INT PRIMARY KEY NOT NULL,\n",
    " JOB_TITLE TEXT NOT NULL,\n",
    " MIN_SAL REAL NOT NULL,\n",
    " MAX_SAL REAL NOT NULL)''')\n",
    "print(\"Table created successfully\")\n",
    "conn.close()"
   ]
  },
  {
   "cell_type": "code",
   "execution_count": 3,
   "id": "b25a454b",
   "metadata": {},
   "outputs": [
    {
     "name": "stdout",
     "output_type": "stream",
     "text": [
      "Records created\n"
     ]
    }
   ],
   "source": [
    "import sqlite3\n",
    "conn = sqlite3.connect('test.db')\n",
    "conn.execute(\"INSERT INTO JOB123 VALUES (1002,'MANAGER',60000.00,75000.00)\")\n",
    "conn.execute(\"INSERT INTO JOB123 VALUES (1034,'SE-I',40000.00,52000.00)\")\n",
    "conn.execute(\"INSERT INTO JOB123 VALUES (1102,'HR',25000.00,37000.00)\")\n",
    "conn.commit()\n",
    "print(\"Records created\")\n",
    "conn.close()"
   ]
  },
  {
   "cell_type": "code",
   "execution_count": 4,
   "id": "68682542",
   "metadata": {},
   "outputs": [
    {
     "name": "stdout",
     "output_type": "stream",
     "text": [
      "(1002, 'MANAGER', 60000.0, 75000.0)\n",
      "(1034, 'SE-I', 40000.0, 52000.0)\n",
      "(1102, 'HR', 25000.0, 37000.0)\n"
     ]
    }
   ],
   "source": [
    "import sqlite3\n",
    "conn =sqlite3.connect('test.db')\n",
    "cursor=conn.execute(\"SELECT * FROM JOB123\")\n",
    "\n",
    "for i in cursor:\n",
    "    print(i)"
   ]
  },
  {
   "cell_type": "markdown",
   "id": "2f3a5882",
   "metadata": {},
   "source": [
    "5.Write a SQL lite3 statement to create a table names as job_history including columns\n",
    "employee_id, start_date, end_date, job_id and department_id and make sure that, the\n",
    "employee_id column does not contain any duplicate value at the time of insertion and the\n",
    "foreign key column job_id contain only those values which are exists in the jobs table."
   ]
  },
  {
   "cell_type": "code",
   "execution_count": 10,
   "id": "1b7f72c1",
   "metadata": {},
   "outputs": [
    {
     "name": "stdout",
     "output_type": "stream",
     "text": [
      "Database created succesfully\n",
      "Table created successfully\n"
     ]
    }
   ],
   "source": [
    "import sqlite3\n",
    "conn = sqlite3.connect('test.db')\n",
    "print(\"Database created succesfully\")\n",
    "conn.execute('''CREATE TABLE EMP123\n",
    " (EMP_ID INT PRIMARY KEY NOT NULL,\n",
    " START_DATE DATE NOT NULL,\n",
    " END_DATE DATE NOT NULL,\n",
    " JOB_ID INT NOT NULL,\n",
    " DEP_ID INT NOT NULL,\n",
    " FOREIGN KEY(JOB_ID) REFERENCES JOB123 (JOB_ID))''')\n",
    "print(\"Table created successfully\")\n",
    "conn.close()"
   ]
  },
  {
   "cell_type": "code",
   "execution_count": 17,
   "id": "f4d290a3",
   "metadata": {},
   "outputs": [
    {
     "name": "stdout",
     "output_type": "stream",
     "text": [
      "Records created\n"
     ]
    }
   ],
   "source": [
    "import sqlite3\n",
    "conn = sqlite3.connect('test.db')\n",
    "conn.execute(\"INSERT INTO EMP123 VALUES (1901,'2019-10-13','2021-09-14',1002,901)\")\n",
    "conn.execute(\"INSERT INTO EMP123 VALUES (2004,'2020-04-12','2020-10-12',1034,854)\")\n",
    "conn.execute(\"INSERT INTO EMP123 VALUES (2109,'2021-09-04','2022-05-09',1034,855)\")\n",
    "conn.commit()\n",
    "print(\"Records created\")\n",
    "conn.close()"
   ]
  },
  {
   "cell_type": "code",
   "execution_count": 18,
   "id": "92cd8bf3",
   "metadata": {
    "scrolled": true
   },
   "outputs": [
    {
     "name": "stdout",
     "output_type": "stream",
     "text": [
      "(1901, '2019-10-13', '2021-09-14', 1002, 901)\n",
      "(2004, '2020-04-12', '2020-10-12', 1034, 854)\n",
      "(2109, '2021-09-04', '2022-05-09', 1034, 855)\n"
     ]
    }
   ],
   "source": [
    "import sqlite3\n",
    "conn =sqlite3.connect('test.db')\n",
    "cursor=conn.execute(\"SELECT * FROM EMP123\")\n",
    "\n",
    "for i in cursor:\n",
    "    print(i)"
   ]
  }
 ],
 "metadata": {
  "kernelspec": {
   "display_name": "Python 3 (ipykernel)",
   "language": "python",
   "name": "python3"
  },
  "language_info": {
   "codemirror_mode": {
    "name": "ipython",
    "version": 3
   },
   "file_extension": ".py",
   "mimetype": "text/x-python",
   "name": "python",
   "nbconvert_exporter": "python",
   "pygments_lexer": "ipython3",
   "version": "3.9.7"
  }
 },
 "nbformat": 4,
 "nbformat_minor": 5
}
