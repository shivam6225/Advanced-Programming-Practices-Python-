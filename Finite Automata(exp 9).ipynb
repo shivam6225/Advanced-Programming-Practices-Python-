{
 "cells": [
  {
   "cell_type": "code",
   "execution_count": 1,
   "id": "88d82ffa",
   "metadata": {},
   "outputs": [
    {
     "name": "stdout",
     "output_type": "stream",
     "text": [
      "Collecting automata-lib\n",
      "  Downloading automata_lib-5.0.0-py3-none-any.whl (32 kB)\n",
      "Collecting pydot\n",
      "  Downloading pydot-1.4.2-py2.py3-none-any.whl (21 kB)\n",
      "Requirement already satisfied: pyparsing>=2.1.4 in d:\\anaconda\\lib\\site-packages (from pydot->automata-lib) (3.0.4)\n",
      "Installing collected packages: pydot, automata-lib\n",
      "Successfully installed automata-lib-5.0.0 pydot-1.4.2\n",
      "Note: you may need to restart the kernel to use updated packages.\n"
     ]
    }
   ],
   "source": [
    "pip install automata-lib"
   ]
  },
  {
   "cell_type": "code",
   "execution_count": 9,
   "id": "6e48989f",
   "metadata": {},
   "outputs": [
    {
     "name": "stdout",
     "output_type": "stream",
     "text": [
      "a\n"
     ]
    }
   ],
   "source": [
    "from automata.fa.dfa import DFA\n",
    "# DFA which matches all binary strings ending in an odd number of '1's\n",
    "dfa = DFA(\n",
    "    states={'q0', 'q1', 'q2'},\n",
    "    input_symbols={'0', '1'},\n",
    "    transitions={\n",
    "        'q0': {'0': 'q0', '1': 'q1'},\n",
    "        'q1': {'0': 'q0', '1': 'q2'},\n",
    "        'q2': {'0': 'q2', '1': 'q1'}\n",
    "    },\n",
    "    initial_state='q0',\n",
    "    final_states={'q1'}\n",
    ")\n",
    "if dfa.accepts_input('010101'):\n",
    "    print('a')\n",
    "\n"
   ]
  },
  {
   "cell_type": "code",
   "execution_count": null,
   "id": "76954b47",
   "metadata": {},
   "outputs": [],
   "source": []
  },
  {
   "cell_type": "markdown",
   "id": "14dd0c21",
   "metadata": {},
   "source": [
    "# DFA PROGRAMMING :"
   ]
  },
  {
   "cell_type": "markdown",
   "id": "f052da7c",
   "metadata": {},
   "source": [
    "\n",
    "#### 1.Language that accepts all and only those strings that contain 001 :"
   ]
  },
  {
   "cell_type": "code",
   "execution_count": 1,
   "id": "c2aa5e21",
   "metadata": {},
   "outputs": [
    {
     "name": "stdout",
     "output_type": "stream",
     "text": [
      "Enter the string :100001\n",
      "Accepted\n",
      "Enter the string :001\n",
      "Accepted\n",
      "Enter the string :10010\n",
      "Accepted\n"
     ]
    }
   ],
   "source": [
    "from automata.fa.dfa import DFA\n",
    "# DFA which accepts only numbers that contain 001\n",
    "dfa = DFA(\n",
    "    states={'q0', 'q1', 'q2', 'q3'},\n",
    "    input_symbols={'0', '1'},\n",
    "    transitions={\n",
    "        'q0': {'0': 'q1', '1': 'q0'},\n",
    "        'q1': {'0': 'q2', '1': 'q0'},\n",
    "        'q2': {'0': 'q2', '1': 'q3'},\n",
    "        'q3': {'0': 'q3', '1': 'q3'}\n",
    "    },\n",
    "    initial_state='q0',\n",
    "    final_states={'q3'}\n",
    ")\n",
    "for i in range(1,4):\n",
    "    num = input(\"Enter the string :\")\n",
    "    if(dfa.accepts_input(num)):\n",
    "        print(\"Accepted\")\n",
    "    else:\n",
    "        print(\"Rejected\")\n"
   ]
  },
  {
   "cell_type": "markdown",
   "id": "a8389978",
   "metadata": {},
   "source": [
    "#### 2.Automata code for L(M) ={ w | w has an even number of 1s} :\n",
    "\n"
   ]
  },
  {
   "cell_type": "code",
   "execution_count": 2,
   "id": "cb727a32",
   "metadata": {},
   "outputs": [
    {
     "name": "stdout",
     "output_type": "stream",
     "text": [
      "Enter the string :111\n",
      "Rejected\n",
      "Enter the string :11011\n",
      "Accepted\n",
      "Enter the string :shivam11\n",
      "Rejected\n"
     ]
    }
   ],
   "source": [
    "from automata.fa.dfa import DFA\n",
    "# DFA which accepts only numbers that has even number of 1s\n",
    "dfa = DFA(\n",
    "    states={'q0', 'q1', 'q2'},\n",
    "    input_symbols={'0', '1'},\n",
    "    transitions={\n",
    "        'q0': {'0': 'q0', '1': 'q1'},\n",
    "        'q1': {'0': 'q1', '1': 'q2'},\n",
    "        'q2': {'0': 'q2', '1': 'q1'}\n",
    "    },\n",
    "    initial_state='q0',\n",
    "    final_states={'q2'}\n",
    ")\n",
    "for i in range(1,4):\n",
    "    num = input(\"Enter the string :\")\n",
    "    if(dfa.accepts_input(num)):\n",
    "        print(\"Accepted\")\n",
    "    else:\n",
    "        print(\"Rejected\")\n"
   ]
  },
  {
   "cell_type": "markdown",
   "id": "ea6fbc3a",
   "metadata": {},
   "source": [
    "#### 3.DFA which accepts only 0’s and 1’s combinations as inputs :\n"
   ]
  },
  {
   "cell_type": "code",
   "execution_count": null,
   "id": "3134f776",
   "metadata": {},
   "outputs": [
    {
     "name": "stdout",
     "output_type": "stream",
     "text": [
      "Enter the string :\n",
      "Rejected\n"
     ]
    }
   ],
   "source": [
    "from automata.fa.dfa import DFA\n",
    "# DFA which accepts only 1’s and 0’s \n",
    "dfa = DFA(\n",
    "    states={'q0', 'q1'},\n",
    "    input_symbols={'0', '1'},\n",
    "    transitions={\n",
    "        'q0': {'0': 'q1', '1': 'q1'},\n",
    "        'q1': {'0': 'q1', '1': 'q1'}\n",
    "    },\n",
    "    initial_state='q0',\n",
    "    final_states={'q1'}\n",
    ")\n",
    "for i in range(1,8):\n",
    "    num = input(\"Enter the string :\")\n",
    "    if(dfa.accepts_input(num)):\n",
    "        print(\"Accepted\")\n",
    "    else:\n",
    "        print(\"Rejected\")\n"
   ]
  },
  {
   "cell_type": "markdown",
   "id": "7f64dd58",
   "metadata": {},
   "source": [
    "#### 4.DFA which accepts single 'a' or (aa)* ending with 'b' :"
   ]
  },
  {
   "cell_type": "code",
   "execution_count": 1,
   "id": "281c1a02",
   "metadata": {},
   "outputs": [
    {
     "name": "stdout",
     "output_type": "stream",
     "text": [
      "Enter the string :aaab\n",
      "Rejected\n",
      "Enter the string :ab\n",
      "Rejected\n",
      "Enter the string :a\n",
      "Accepted\n"
     ]
    }
   ],
   "source": [
    "from automata.fa.dfa import DFA\n",
    "# DFA which accepts single 'a' or (aa)* ending with 'b'\n",
    "dfa = DFA(\n",
    "    states={'q0', 'q1', 'q2', 'q3', 'q4', 'q5'},\n",
    "    input_symbols={'a', 'b'},\n",
    "    transitions={\n",
    "        'q0': {'a': 'q1', 'b': 'q5'},\n",
    "        'q1': {'a': 'q2', 'b': 'q5'},\n",
    "        'q2': {'a': 'q3', 'b': 'q4'},\n",
    "        'q3': {'a': 'q2', 'b': 'q5'},\n",
    "        'q4': {'a': 'q5', 'b': 'q5'},\n",
    "        'q5': {'a': 'q5', 'b': 'q5'}\n",
    "    },\n",
    "    initial_state='q0',\n",
    "    final_states={'q1', 'q4'}\n",
    ")\n",
    "for i in range(1,4):\n",
    "    num = input(\"Enter the string :\")\n",
    "    if(dfa.accepts_input(num)):\n",
    "        print(\"Accepted\")\n",
    "    else:\n",
    "        print(\"Rejected\")\n"
   ]
  },
  {
   "cell_type": "markdown",
   "id": "24095cd8",
   "metadata": {},
   "source": [
    "#### 5.DFA which accepts repeated  ‘ab’ only :\n"
   ]
  },
  {
   "cell_type": "code",
   "execution_count": 10,
   "id": "32f377ca",
   "metadata": {},
   "outputs": [
    {
     "name": "stdout",
     "output_type": "stream",
     "text": [
      "Enter the string :ababa\n",
      "Rejected\n",
      "Enter the string :abab\n",
      "Accepted\n",
      "Enter the string :ab\n",
      "Accepted\n",
      "Enter the string :shivab\n",
      "Rejected\n",
      "Enter the string :abba\n",
      "Rejected\n"
     ]
    }
   ],
   "source": [
    "from automata.fa.dfa import DFA\n",
    "# DFA which accepts repeated  ‘ab’ only.\n",
    "dfa = DFA(\n",
    "    states={'q0', 'q1', 'q2', 'q3'},\n",
    "    input_symbols={'a', 'b'},\n",
    "    transitions={\n",
    "        'q0': {'a': 'q1', 'b': 'q3'},\n",
    "        'q1': {'a': 'q3', 'b': 'q2'},\n",
    "        'q2': {'a': 'q1', 'b': 'q3'},\n",
    "        'q3': {'a': 'q3', 'b': 'q3'}\n",
    "    },\n",
    "    initial_state='q0',\n",
    "    final_states={'q2'}\n",
    ")\n",
    "for i in range(1,6):\n",
    "    num = input(\"Enter the string :\")\n",
    "    if(dfa.accepts_input(num)):\n",
    "        print(\"Accepted\")\n",
    "    else:\n",
    "        print(\"Rejected\")\n"
   ]
  },
  {
   "cell_type": "markdown",
   "id": "8f935459",
   "metadata": {},
   "source": [
    "#### 6.DFA which accepts the following conditions :\n"
   ]
  },
  {
   "cell_type": "markdown",
   "id": "d91e2d73",
   "metadata": {},
   "source": [
    "#### 6.1. { }  --  ( null set ) :"
   ]
  },
  {
   "cell_type": "code",
   "execution_count": 13,
   "id": "67d28134",
   "metadata": {},
   "outputs": [
    {
     "name": "stdout",
     "output_type": "stream",
     "text": [
      "Enter the string :\n",
      "Rejected\n"
     ]
    }
   ],
   "source": [
    "from automata.fa.dfa import DFA\n",
    "# DFA which does not accept any input\n",
    "dfa = DFA(\n",
    "    states={'q0', 'q1'},\n",
    "    input_symbols={'0', '1'},\n",
    "    transitions={\n",
    "        'q0': {'0': 'q0', '1': 'q0'},\n",
    "        'q1': {'0': 'q1', '1': 'q1'}\n",
    "    },\n",
    "    initial_state='q0',\n",
    "    final_states={'q1'}\n",
    ")\n",
    "for i in range(1,2):\n",
    "    num = input(\"Enter the string :\")\n",
    "    if(dfa.accepts_input(num)):\n",
    "        print(\"Accepted\")\n",
    "    else:\n",
    "        print(\"Rejected\")\n"
   ]
  },
  {
   "cell_type": "markdown",
   "id": "59dbfea9",
   "metadata": {},
   "source": [
    "#### 6.2. { ε } -- Accepts only null character :\n"
   ]
  },
  {
   "cell_type": "code",
   "execution_count": 14,
   "id": "19ed31f2",
   "metadata": {},
   "outputs": [
    {
     "name": "stdout",
     "output_type": "stream",
     "text": [
      "Enter the string :\n",
      "Accepted\n",
      "Enter the string :shiv\n",
      "Rejected\n",
      "Enter the string :{}\n",
      "Rejected\n",
      "Enter the string :0\n",
      "Rejected\n",
      "Enter the string :Null\n",
      "Rejected\n"
     ]
    }
   ],
   "source": [
    "from automata.fa.dfa import DFA\n",
    "# DFA which does not accept any input\n",
    "dfa = DFA(\n",
    "    states={'q0', 'q1'},\n",
    "    input_symbols={'0', '1'},\n",
    "    transitions={\n",
    "        'q0': {'0': 'q1', '1': 'q1'},\n",
    "        'q1': {'0': 'q1', '1': 'q1'}\n",
    "    },\n",
    "    initial_state='q0',\n",
    "    final_states={'q0'}\n",
    ")\n",
    "for i in range(1,6):\n",
    "    num = input(\"Enter the string :\")\n",
    "    if(dfa.accepts_input(num)):\n",
    "        print(\"Accepted\")\n",
    "    else:\n",
    "        print(\"Rejected\")\n",
    "\n"
   ]
  },
  {
   "cell_type": "markdown",
   "id": "e55065a2",
   "metadata": {},
   "source": [
    "#### 6.3. Σ * -- accepts all combinations of ‘1’ and ‘0’ including null string :\n",
    "\n"
   ]
  },
  {
   "cell_type": "code",
   "execution_count": 15,
   "id": "157e1829",
   "metadata": {},
   "outputs": [
    {
     "name": "stdout",
     "output_type": "stream",
     "text": [
      "Enter the string :10\n",
      "Accepted\n",
      "Enter the string :1010\n",
      "Accepted\n",
      "Enter the string :\n",
      "Accepted\n",
      "Enter the string :0000\n",
      "Accepted\n",
      "Enter the string :111\n",
      "Accepted\n",
      "Enter the string :shiv\n",
      "Rejected\n",
      "Enter the string :10101\n",
      "Accepted\n"
     ]
    }
   ],
   "source": [
    "\n",
    "from automata.fa.dfa import DFA\n",
    "dfa = DFA(\n",
    "    states={'q0'},\n",
    "    input_symbols={'0', '1'},\n",
    "    transitions={\n",
    "        'q0': {'0': 'q0', '1': 'q0'}\n",
    "    },\n",
    "    initial_state='q0',\n",
    "    final_states={'q0'}\n",
    ")\n",
    "for i in range(1,8):\n",
    "    num = input(\"Enter the string :\")\n",
    "    if(dfa.accepts_input(num)):\n",
    "        print(\"Accepted\")\n",
    "    else:\n",
    "        print(\"Rejected\")\n"
   ]
  },
  {
   "cell_type": "markdown",
   "id": "e81d466c",
   "metadata": {},
   "source": [
    "#### 6.4. Σ + -- accepts all combinations of ‘1’ and ‘0’ excluding null string :"
   ]
  },
  {
   "cell_type": "code",
   "execution_count": 16,
   "id": "922656cb",
   "metadata": {},
   "outputs": [
    {
     "name": "stdout",
     "output_type": "stream",
     "text": [
      "Enter the string :10101\n",
      "Accepted\n",
      "Enter the string :\n",
      "Rejected\n",
      "Enter the string :shivam10\n",
      "Rejected\n",
      "Enter the string :101010\n",
      "Accepted\n",
      "Enter the string :\n",
      "Rejected\n",
      "Enter the string :0011\n",
      "Accepted\n",
      "Enter the string :10000001\n",
      "Accepted\n"
     ]
    }
   ],
   "source": [
    "from automata.fa.dfa import DFA\n",
    "dfa = DFA(\n",
    "    states={'q0', 'q1'},\n",
    "    input_symbols={'0', '1'},\n",
    "    transitions={\n",
    "        'q0': {'0': 'q1', '1': 'q1'},\n",
    "        'q1': {'0': 'q1', '1': 'q1'}\n",
    "    },\n",
    "    initial_state='q0',\n",
    "    final_states={'q1'}\n",
    ")\n",
    "for i in range(1,8):\n",
    "    num = input(\"Enter the string :\")\n",
    "    if(dfa.accepts_input(num)):\n",
    "        print(\"Accepted\")\n",
    "    else:\n",
    "        print(\"Rejected\")\n"
   ]
  },
  {
   "cell_type": "markdown",
   "id": "905f674c",
   "metadata": {},
   "source": [
    "# NFA PROGRAMMING :\n"
   ]
  },
  {
   "cell_type": "markdown",
   "id": "70aa680d",
   "metadata": {},
   "source": [
    "#### 1.NFA which accepts strings that ends with “01” only :\n"
   ]
  },
  {
   "cell_type": "code",
   "execution_count": 17,
   "id": "878eb7ac",
   "metadata": {},
   "outputs": [
    {
     "name": "stdout",
     "output_type": "stream",
     "text": [
      "Enter the string :12110\n",
      "Rejected\n",
      "Enter the string :shiv01\n",
      "Rejected\n",
      "Enter the string :01\n",
      "Accepted\n"
     ]
    }
   ],
   "source": [
    "from automata.fa.nfa import NFA\n",
    "# NFA which accepts strings that ends with '01'\n",
    "nfa = NFA(\n",
    "    states={'q0', 'q1', 'q2'},\n",
    "    input_symbols={'0', '1'},\n",
    "    transitions={\n",
    "        'q0': {'0': {'q1','q0'}, '1': {'q0'}},\n",
    "        'q1': {'1': {'q2'}},\n",
    "        'q2': {}\n",
    "    },\n",
    "    initial_state='q0',\n",
    "    final_states={'q2'}\n",
    ")\n",
    "for i in range(1,4):\n",
    "    num = input(\"Enter the string :\")\n",
    "    if(nfa.accepts_input(num)):\n",
    "        print(\"Accepted\")\n",
    "    else:\n",
    "        print(\"Rejected\")\n"
   ]
  },
  {
   "cell_type": "markdown",
   "id": "13d4718d",
   "metadata": {},
   "source": [
    "#### 2.NFA for L(M)= a + aa*b + a*b :\n"
   ]
  },
  {
   "cell_type": "code",
   "execution_count": 1,
   "id": "0d2a773d",
   "metadata": {},
   "outputs": [
    {
     "name": "stdout",
     "output_type": "stream",
     "text": [
      "Enter the string :ab\n",
      "Accepted\n",
      "Enter the string :aaab\n",
      "Accepted\n",
      "Enter the string :aaaab\n",
      "Accepted\n",
      "Enter the string :aab\n",
      "Accepted\n",
      "Enter the string :abb\n",
      "Rejected\n"
     ]
    }
   ],
   "source": [
    "from automata.fa.nfa import NFA\n",
    "nfa = NFA(\n",
    "    states={'q0', 'q1', 'q2', 'q3', 'q4'},\n",
    "    input_symbols={'a', 'b'},\n",
    "    transitions={\n",
    "        'q0': {'a': {'q1','q2'}},\n",
    "        'q1': {'a': {'q2','q4'}, 'b': {'q4'}},\n",
    "        'q2': {'a': {'q2'}, 'b': {'q3'}},\n",
    "        'q3': {},\n",
    "        'q4': {}\n",
    "    },\n",
    "    initial_state='q0',\n",
    "    final_states={'q1','q3'}\n",
    ")\n",
    "for i in range(1,6):\n",
    "    num = input(\"Enter the string :\")\n",
    "    if(nfa.accepts_input(num)):\n",
    "        print(\"Accepted\")\n",
    "    else:\n",
    "        print(\"Rejected\")\n"
   ]
  },
  {
   "cell_type": "markdown",
   "id": "6b44bf95",
   "metadata": {},
   "source": [
    "#### 3.NFA for (ab)^n which has regular expression (ab)* :"
   ]
  },
  {
   "cell_type": "code",
   "execution_count": null,
   "id": "d67d897a",
   "metadata": {},
   "outputs": [],
   "source": [
    "from automata.fa.nfa import NFA\n",
    "nfa = NFA(\n",
    "    states={'q0', 'q1', 'q2'},\n",
    "    input_symbols={'a', 'b'},\n",
    "    transitions={\n",
    "        'q0': {'a': {'q1'}},\n",
    "        'q1': {'b': {'q0', 'q2'}},\n",
    "        'q2': {}\n",
    "    },\n",
    "    initial_state='q0',\n",
    "    final_states={'q2'}\n",
    ")\n",
    "for i in range(1,8):\n",
    "    num = input(\"Enter the string :\")\n",
    "    if(nfa.accepts_input(num)):\n",
    "        print(\"Accepted\")\n",
    "    else:\n",
    "        print(\"Rejected\")\n"
   ]
  },
  {
   "cell_type": "code",
   "execution_count": null,
   "id": "66b88a9e",
   "metadata": {},
   "outputs": [],
   "source": []
  }
 ],
 "metadata": {
  "kernelspec": {
   "display_name": "Python 3 (ipykernel)",
   "language": "python",
   "name": "python3"
  },
  "language_info": {
   "codemirror_mode": {
    "name": "ipython",
    "version": 3
   },
   "file_extension": ".py",
   "mimetype": "text/x-python",
   "name": "python",
   "nbconvert_exporter": "python",
   "pygments_lexer": "ipython3",
   "version": "3.9.7"
  }
 },
 "nbformat": 4,
 "nbformat_minor": 5
}
