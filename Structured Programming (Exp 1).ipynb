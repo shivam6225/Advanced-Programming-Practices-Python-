{
 "cells": [
  {
   "cell_type": "code",
   "execution_count": 11,
   "id": "024ff20e",
   "metadata": {
    "scrolled": true
   },
   "outputs": [
    {
     "name": "stdout",
     "output_type": "stream",
     "text": [
      "1000\n",
      "1040\n",
      "1080\n",
      "1120\n",
      "1160\n",
      "1200\n",
      "1240\n",
      "1280\n",
      "1320\n",
      "1360\n",
      "1400\n",
      "1440\n",
      "1480\n",
      "1520\n",
      "1560\n",
      "1600\n",
      "1640\n",
      "1680\n",
      "1720\n",
      "1760\n",
      "1800\n",
      "1840\n",
      "1880\n",
      "1920\n",
      "1960\n",
      "2000\n"
     ]
    }
   ],
   "source": [
    "#1.Write a Python program to find those numbers which are divisible by \n",
    "#8 and multiple of 5, between 1000 and 2000 (both included)\n",
    "\n",
    "for i in range(1000,2001):\n",
    "    if(i%8==0 and i%5==0):\n",
    "        print(i)"
   ]
  },
  {
   "cell_type": "code",
   "execution_count": 10,
   "id": "d75028f7",
   "metadata": {},
   "outputs": [
    {
     "name": "stdout",
     "output_type": "stream",
     "text": [
      "8\n",
      "Input your guess(0-9): 7\n",
      "Wrong guess , Guess Again: 8\n",
      "You Guessed well\n"
     ]
    }
   ],
   "source": [
    "#2.Write a Python program to guess a number between 1 to 9. Note : User\n",
    "#is prompted to enter a guess. If the user guesses wrong then the prompt\n",
    "#appears again until the guess is correct, on successful guess, user will get\n",
    "#a \"Well guessed!\" message, and the program will exit.\n",
    "\n",
    "import random\n",
    "\n",
    "i=random.randint(0,9)\n",
    "print(i)\n",
    "val=int(input(\"Input your guess(0-9): \"))\n",
    "while(val != i):\n",
    "    val=int(input(\"Wrong guess , Guess Again: \"))\n",
    "print(\"You Guessed well\")\n",
    "   "
   ]
  },
  {
   "cell_type": "code",
   "execution_count": 12,
   "id": "4afff9c7",
   "metadata": {},
   "outputs": [
    {
     "name": "stdout",
     "output_type": "stream",
     "text": [
      "*  \r\n",
      "*  *  \r\n",
      "*  *  *  \r\n",
      "*  *  *  *  \r\n",
      "*  *  *  *  *  \r\n",
      "*  *  *  *  \r\n",
      "*  *  *  \r\n",
      "*  *  \r\n",
      "*  \r\n"
     ]
    }
   ],
   "source": [
    "#3.Write a Python program to construct the following pattern, using a nested\n",
    "#for loop.\n",
    "#*\n",
    "#* *\n",
    "#* * *\n",
    "#* * * *\n",
    "#* * * * *\n",
    "#* * * *\n",
    "#* * *\n",
    "#* *\n",
    "#*\n",
    "\n",
    "for i in range(0,5):\n",
    "    for j in range(0,i+1):\n",
    "        print(\"* \",end=\" \")\n",
    "    print(\"\\r\")\n",
    "for i in range(0,4):\n",
    "    for j in range(0,4-i):\n",
    "        print(\"* \",end=\" \")\n",
    "    print(\"\\r\")"
   ]
  },
  {
   "cell_type": "code",
   "execution_count": 16,
   "id": "9156701e",
   "metadata": {},
   "outputs": [
    {
     "name": "stdout",
     "output_type": "stream",
     "text": [
      "Enter your string: shivam\n",
      "mavihs"
     ]
    }
   ],
   "source": [
    "#4.Write a Python program that accepts a word from the user and reverse\n",
    "#it. ( should not use any functions)\n",
    "\n",
    "str1=str(input(\"Enter your string: \"))\n",
    "for i in reversed(range(0,len(str1))):\n",
    "    print(str1[i],end=\"\")"
   ]
  },
  {
   "cell_type": "code",
   "execution_count": 29,
   "id": "a924190a",
   "metadata": {},
   "outputs": [
    {
     "name": "stdout",
     "output_type": "stream",
     "text": [
      "[[0, 0, 0, 0], [0, 1, 2, 3], [0, 2, 4, 6]]\n"
     ]
    }
   ],
   "source": [
    "#5.Write a Python program which takes two digits m (row) and n\n",
    "#(column) as input and generates a two-dimensional array. The element\n",
    "#value in the i-th row and j-th column of the array should be i*j. Note :\n",
    "#i = 0,1.., m-1\n",
    "#j = 0,1, n-1.\n",
    "#Test Data : Rows = 3, Columns = 4\n",
    "#Expected Result : [[0, 0, 0, 0], [0, 1, 2, 3], [0, 2, 4, 6]]\n",
    "\n",
    "val =[]\n",
    "for i in range(0,3):\n",
    "    col=[]\n",
    "    for j in range(0,4):\n",
    "        col.append(i*j)\n",
    "    val.append(col)\n",
    "print(val)"
   ]
  },
  {
   "cell_type": "code",
   "execution_count": 13,
   "id": "a23cd05f",
   "metadata": {},
   "outputs": [
    {
     "name": "stdout",
     "output_type": "stream",
     "text": [
      "Enter your string: SRMIST 2021\n",
      "Letters: 6\n",
      "Numbers: 4\n"
     ]
    }
   ],
   "source": [
    "#6.Write a Python program that accepts a string and calculate the number\n",
    "#of digits and letters.\n",
    "\n",
    "\n",
    "str1=str(input(\"Enter your string: \"))\n",
    "countl=0\n",
    "countn=0\n",
    "for i in str1:\n",
    "    if i.isdigit():\n",
    "        countn=countn+1\n",
    "    elif i.isalpha():\n",
    "        countl=countl+1\n",
    "print(\"Letters:\",countl)\n",
    "print(\"Numbers:\",countn)\n",
    "    "
   ]
  },
  {
   "cell_type": "code",
   "execution_count": 19,
   "id": "51881e44",
   "metadata": {},
   "outputs": [
    {
     "name": "stdout",
     "output_type": "stream",
     "text": [
      "Enter your string: srmist@2022\n",
      "Not a Valid password\n"
     ]
    }
   ],
   "source": [
    "#7.Write a Python program to check the validity of password input by users.\n",
    "#Validation :\n",
    "#At least 1 letter between [a-z] and 1 letter between [A-Z].\n",
    "#At least 1 number between [0-9].\n",
    "#At least 1 character from [$#@].\n",
    "#Minimum length 6 characters.\n",
    "#Maximum length 16 characters.\n",
    "\n",
    "\n",
    "\n",
    "str1=str(input(\"Enter your password: \"))\n",
    "lenst=len(str1)\n",
    "cnta=0\n",
    "cntA=0\n",
    "cntn=0\n",
    "cnts=0\n",
    "if lenst>=6 and lenst<=16:\n",
    "    for ch in str1:\n",
    "        if ch.isupper():\n",
    "            cntA=1\n",
    "        elif ch.islower():\n",
    "            cnta=1\n",
    "        elif ch.isdigit():\n",
    "            cntn=1\n",
    "        elif ch=='$' or ch=='@' or ch=='#':\n",
    "            cnts=1\n",
    "    if cntA==1 and cnta==1 and cntn==1 and cnts==1:\n",
    "        print(\"Valid password\")\n",
    "    else:\n",
    "        print(\"Not a Valid password\")\n",
    "else:\n",
    "    print(\"Not a Valid password\")\n",
    "        \n",
    "    "
   ]
  },
  {
   "cell_type": "code",
   "execution_count": 6,
   "id": "9d3f1fe5",
   "metadata": {},
   "outputs": [
    {
     "name": "stdout",
     "output_type": "stream",
     "text": [
      "200\n",
      "202\n",
      "204\n",
      "206\n",
      "208\n",
      "220\n",
      "222\n",
      "224\n",
      "226\n",
      "228\n",
      "240\n",
      "242\n",
      "244\n",
      "246\n",
      "248\n",
      "260\n",
      "262\n",
      "264\n",
      "266\n",
      "268\n",
      "280\n",
      "282\n",
      "284\n",
      "286\n",
      "288\n",
      "400\n"
     ]
    }
   ],
   "source": [
    "#8.Write a Python program to find numbers between 100 and 400 (both\n",
    "#included) where each digit of a number is an even number. The numbers\n",
    "#obtained should be printed in a comma-separated sequence.\n",
    "\n",
    "for i in range(100,401):\n",
    "    j=i\n",
    "    m=1\n",
    "    while j>0:\n",
    "        k=int(j%10)\n",
    "        if k%2!=0:\n",
    "            m=0\n",
    "        j=int(j/10)\n",
    "    if m==1:\n",
    "        print(i)"
   ]
  },
  {
   "cell_type": "code",
   "execution_count": 14,
   "id": "8102b0ac",
   "metadata": {},
   "outputs": [
    {
     "name": "stdout",
     "output_type": "stream",
     "text": [
      "Enter the Month: October\n",
      "No. of days: 31\n"
     ]
    }
   ],
   "source": [
    "#9.Write a Python program to convert month name to a number of days.\n",
    "\n",
    "list1=[\"January\",\"March\",\"May\",\"July\",\"August\",\"October\",\"December\"]\n",
    "list2=[\"April\",\"June\",\"September\",\"November\"]\n",
    "str1=str(input(\"Enter the Month: \"))\n",
    "m=0\n",
    "for ch in list1:\n",
    "    if ch==str1:\n",
    "        print(\"No. of days: 31\")\n",
    "        m=1\n",
    "for ch in list2:\n",
    "    if ch==str1:\n",
    "        print(\"No. of days: 30\")\n",
    "        m=1\n",
    "if m==0 and str1==\"February\":\n",
    "    print(\"No. of days: 28\")\n",
    "elif m==0:\n",
    "    print(\"Invalid Month\")\n"
   ]
  },
  {
   "cell_type": "code",
   "execution_count": 14,
   "id": "c7506cc1",
   "metadata": {},
   "outputs": [
    {
     "name": "stdout",
     "output_type": "stream",
     "text": [
      "Enter first number: 68\n",
      "Enter second number: 120\n",
      "Sum: 200\n"
     ]
    }
   ],
   "source": [
    "#10.Write a Python program to sum of two given integers. However, if the\n",
    "#sum is between 105 to 200 it will return 200.\n",
    "\n",
    "i=int(input(\"Enter first number: \"))\n",
    "j=int(input(\"Enter second number: \"))\n",
    "k=i+j\n",
    "if k>=105 and k<=200:\n",
    "    k=200\n",
    "print(\"Sum:\",k)"
   ]
  },
  {
   "cell_type": "code",
   "execution_count": 20,
   "id": "9855eac1",
   "metadata": {},
   "outputs": [
    {
     "name": "stdout",
     "output_type": "stream",
     "text": [
      "999999999\r\n",
      "88888888\r\n",
      "7777777\r\n",
      "666666\r\n",
      "55555\r\n",
      "4444\r\n",
      "333\r\n",
      "22\r\n",
      "1\r\n"
     ]
    }
   ],
   "source": [
    "#11.Write a Python program to construct the following pattern, using a\n",
    "#nested loop number.\n",
    "#Expected Output:\n",
    "#999999999\n",
    "#88888888\n",
    "#7777777\n",
    "#666666\n",
    "#55555\n",
    "#4444\n",
    "#333\n",
    "#22\n",
    "#1\n",
    "\n",
    "\n",
    "\n",
    "for i in reversed(range(1,10)):\n",
    "    for j in range(1,i+1):\n",
    "        print(i,end=\"\")\n",
    "    print(\"\\r\")"
   ]
  },
  {
   "cell_type": "code",
   "execution_count": 17,
   "id": "e0e9c8cb",
   "metadata": {},
   "outputs": [
    {
     "name": "stdout",
     "output_type": "stream",
     "text": [
      "**\r\n",
      "*********\r\n",
      "******\r\n",
      "***\r\n"
     ]
    }
   ],
   "source": [
    "#12.Write a Python program to create a histogram from a given list of\n",
    "#integers\n",
    "\n",
    "def histogram(listint):\n",
    "    for i in listint:\n",
    "        for j in range(i):\n",
    "            print(\"*\",end=\"\")\n",
    "        print(\"\\r\")\n",
    "histogram([2,9,6,3])\n",
    "        "
   ]
  },
  {
   "cell_type": "code",
   "execution_count": 8,
   "id": "e4bc2a7a",
   "metadata": {},
   "outputs": [
    {
     "name": "stdout",
     "output_type": "stream",
     "text": [
      "Enter first number: 34\n",
      "Enter second number: 34\n",
      "true\n"
     ]
    }
   ],
   "source": [
    "#13.Write a Python program that will return true if the two given integer\n",
    "#values are equal or their sum or difference is 5.\n",
    "\n",
    "i=int(input(\"Enter first number: \"))\n",
    "j=int(input(\"Enter second number: \"))\n",
    "if i==j or abs(i-j)==5 or i+j==5:\n",
    "    print(\"true\")\n",
    "else:\n",
    "    print(\"false\")"
   ]
  },
  {
   "cell_type": "code",
   "execution_count": 3,
   "id": "ff0d6c66",
   "metadata": {},
   "outputs": [
    {
     "name": "stdout",
     "output_type": "stream",
     "text": [
      "Enter x1: 2\n",
      "Enter y1: 3\n",
      "Enter x2: 0\n",
      "Enter y2: 1\n",
      "Distance: 2.8284271247461903\n"
     ]
    }
   ],
   "source": [
    "#14.Write a Python program to compute the distance between the points\n",
    "#(x1, y1) and (x2, y2).\n",
    "\n",
    "\n",
    "import math\n",
    "x1=int(input(\"Enter x1: \"))\n",
    "y1=int(input(\"Enter y1: \"))\n",
    "x2=int(input(\"Enter x2: \"))\n",
    "y2=int(input(\"Enter y2: \"))\n",
    "\n",
    "distance = math.sqrt((x1-x2)**2+(y1-y2)**2)\n",
    "print(\"Distance:\",distance)"
   ]
  },
  {
   "cell_type": "code",
   "execution_count": 22,
   "id": "931b4191",
   "metadata": {},
   "outputs": [
    {
     "name": "stdout",
     "output_type": "stream",
     "text": [
      "Enter the size of the sequence: 5\n",
      "Enter the element of the sequence: 1\n",
      "Enter the element of the sequence: 2\n",
      "Enter the element of the sequence: 3\n",
      "Enter the element of the sequence: 4\n",
      "Enter the element of the sequence: 1\n",
      "Same numbers in sequence\n"
     ]
    }
   ],
   "source": [
    "#15.Function that takes a sequence of numbers and determines whether\n",
    "#all are different from each other\n",
    "\n",
    "def seqsame(*val):\n",
    "    pos=0\n",
    "    for i in range(len(val)):\n",
    "        for j in range(i,len(val)):\n",
    "            if val[i]==val[j]:\n",
    "                pos=-1\n",
    "    if pos==-1:\n",
    "        print(\"Same numbers in sequence\")\n",
    "    else:\n",
    "        print(\"All numbers are diffierent in sequence\")\n",
    "\n",
    "val=[]\n",
    "n=int(input(\"Enter the size of the sequence: \"))\n",
    "for i in range(0,n):\n",
    "    k=int(input(\"Enter the element of the sequence: \"))\n",
    "    val.append(k)\n",
    "seqsame(val)"
   ]
  },
  {
   "cell_type": "code",
   "execution_count": 9,
   "id": "9097bc54",
   "metadata": {},
   "outputs": [
    {
     "name": "stdout",
     "output_type": "stream",
     "text": [
      "Enter the text: geeks and gamers\n",
      "Number of each character: \n",
      "a : 2\n",
      "d : 1\n",
      "e : 3\n",
      "g : 2\n",
      "k : 1\n",
      "m : 1\n",
      "n : 1\n",
      "r : 1\n",
      "s : 2\n"
     ]
    }
   ],
   "source": [
    "#16.Write a Python program to count the number of each character of a\n",
    "#given text\n",
    "\n",
    "text=str(input(\"Enter the text: \"))\n",
    "alp=[0 for x in range(26)]\n",
    "for ch in text:\n",
    "    if ch!=\" \":\n",
    "        alp[ord(ch)-97]+=1\n",
    "print(\"Number of each character: \")\n",
    "for i in range(0,26):\n",
    "    if alp[i]!=0:\n",
    "        print(chr(i+97),\":\",alp[i])"
   ]
  },
  {
   "cell_type": "code",
   "execution_count": 2,
   "id": "3907ed2c",
   "metadata": {
    "scrolled": true
   },
   "outputs": [
    {
     "name": "stdout",
     "output_type": "stream",
     "text": [
      "Enter the number: 340\n",
      "333\n",
      "324\n",
      "315\n",
      "306\n",
      "297\n",
      "279\n",
      "261\n",
      "252\n",
      "243\n",
      "234\n",
      "225\n",
      "216\n",
      "207\n",
      "198\n",
      "180\n",
      "171\n",
      "162\n",
      "153\n",
      "144\n",
      "135\n",
      "126\n",
      "117\n",
      "108\n",
      "99\n",
      "81\n",
      "72\n",
      "63\n",
      "54\n",
      "45\n",
      "36\n",
      "27\n",
      "18\n",
      "9\n"
     ]
    }
   ],
   "source": [
    "#17.Write a Python program that accept a positive number and subtract\n",
    "#from this number the sum of its digits and so on. Continues this operation\n",
    "#until the number is positive.\n",
    "\n",
    "i=int(input(\"Enter the number: \"))\n",
    "def subfn(i):\n",
    "    j=i\n",
    "    while j>0:\n",
    "        k=int(j%10)\n",
    "        i=i-k\n",
    "        j=int(j/10)\n",
    "    return i\n",
    "while subfn(i)>0:\n",
    "    i=subfn(i)\n",
    "    print(i)\n"
   ]
  },
  {
   "cell_type": "code",
   "execution_count": 18,
   "id": "91ec76fc",
   "metadata": {
    "scrolled": true
   },
   "outputs": [
    {
     "name": "stdout",
     "output_type": "stream",
     "text": [
      "Enter mobile number: 9412182363\n",
      "Digits not in Mobile Number: \n",
      "0 5 7 "
     ]
    }
   ],
   "source": [
    "#18.Write a Python program to find the digits which are absent in a given\n",
    "#mobile number.\n",
    "\n",
    "mno=str(input(\"Enter mobile number: \"))\n",
    "num=[0 for x in range(10)]\n",
    "for ch in mno:\n",
    "    num[ord(ch)-48]=1\n",
    "print(\"Digits not in Mobile Number: \")\n",
    "for i in range(0,10):\n",
    "    if num[i]==0:\n",
    "        print(i,end=\" \")"
   ]
  },
  {
   "cell_type": "code",
   "execution_count": 37,
   "id": "c2e27ffb",
   "metadata": {},
   "outputs": [
    {
     "name": "stdout",
     "output_type": "stream",
     "text": [
      "Enter the number: 23\n",
      "55  is palindrome \n"
     ]
    }
   ],
   "source": [
    "#19.Write a Python program to reverse the digits of a given number and\n",
    "#add it to the original, If the sum is not a palindrome repeat this procedure\n",
    "\n",
    "\n",
    "i=int(input(\"Enter the number: \"))\n",
    "def reverse(i):\n",
    "    j=i\n",
    "    revi=0\n",
    "    while j>0:\n",
    "        k=int(j%10)\n",
    "        revi=revi*10+k\n",
    "        j=int(j/10)\n",
    "    return revi\n",
    "num=reverse(i)\n",
    "sum=num+i\n",
    "while sum!=reverse(sum):\n",
    "    k=reverse(sum)\n",
    "    sum=sum+k\n",
    "print(sum,\" is palindrome \")\n"
   ]
  },
  {
   "cell_type": "code",
   "execution_count": 2,
   "id": "15d252bf",
   "metadata": {},
   "outputs": [
    {
     "name": "stdout",
     "output_type": "stream",
     "text": [
      "Enter the third element of the series: 6\n",
      "Enter the third last element of the series: 4\n",
      "Enter the sum of the series: 20\n",
      "Length of the series:  4\n",
      "Elements of the series: \n",
      "2 4 6 8 "
     ]
    }
   ],
   "source": [
    "#20.Write a Python program to print the length of the series and the series\n",
    "#from the given 3rd term, 3rd last term and the sum of a series.\n",
    "\n",
    "def findSeries(k,m,s):\n",
    "    lenser=int(2*s/(k+m))\n",
    "    if lenser==5:\n",
    "        d=(s-3*k)/6\n",
    "    else:\n",
    "        d=(k-m)/(5-lenser)\n",
    "    a=k-2*d\n",
    "    print(\"Length of the series: \",lenser)\n",
    "    print(\"Elements of the series: \")\n",
    "    for i in range(lenser):\n",
    "        print(int(a),end=\" \")\n",
    "        a+=d\n",
    "        \n",
    "    \n",
    "    \n",
    "k=int(input(\"Enter the third element of the series: \"))\n",
    "m=int(input(\"Enter the third last element of the series: \"))\n",
    "s=int(input(\"Enter the sum of the series: \"))\n",
    "\n",
    "findSeries(k,m,s)\n",
    "    "
   ]
  }
 ],
 "metadata": {
  "kernelspec": {
   "display_name": "Python 3 (ipykernel)",
   "language": "python",
   "name": "python3"
  },
  "language_info": {
   "codemirror_mode": {
    "name": "ipython",
    "version": 3
   },
   "file_extension": ".py",
   "mimetype": "text/x-python",
   "name": "python",
   "nbconvert_exporter": "python",
   "pygments_lexer": "ipython3",
   "version": "3.9.7"
  }
 },
 "nbformat": 4,
 "nbformat_minor": 5
}
