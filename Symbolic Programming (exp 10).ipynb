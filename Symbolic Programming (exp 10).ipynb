{
 "cells": [
  {
   "cell_type": "markdown",
   "id": "1cc15aea",
   "metadata": {},
   "source": [
    "# EXP10 SYMBOLIC PROGRAMMING"
   ]
  },
  {
   "cell_type": "code",
   "execution_count": 2,
   "id": "04300813",
   "metadata": {},
   "outputs": [],
   "source": [
    "import sympy\n",
    "from sympy import *"
   ]
  },
  {
   "cell_type": "code",
   "execution_count": 2,
   "id": "e51bf33e",
   "metadata": {},
   "outputs": [
    {
     "data": {
      "text/latex": [
       "$\\displaystyle 1.414213562373095048801688724209698078569671875376948073176679737990732478462107038850387534327641573$"
      ],
      "text/plain": [
       "1.414213562373095048801688724209698078569671875376948073176679737990732478462107038850387534327641573"
      ]
     },
     "execution_count": 2,
     "metadata": {},
     "output_type": "execute_result"
    }
   ],
   "source": [
    "N(sqrt(2),100)"
   ]
  },
  {
   "cell_type": "code",
   "execution_count": 3,
   "id": "db854e47",
   "metadata": {},
   "outputs": [
    {
     "data": {
      "text/latex": [
       "$\\displaystyle \\frac{5}{6}$"
      ],
      "text/plain": [
       "5/6"
      ]
     },
     "execution_count": 3,
     "metadata": {},
     "output_type": "execute_result"
    }
   ],
   "source": [
    "Rational(1,2)+Rational(1,3)"
   ]
  },
  {
   "cell_type": "code",
   "execution_count": 34,
   "id": "1383c860",
   "metadata": {},
   "outputs": [
    {
     "data": {
      "text/latex": [
       "$\\displaystyle x^{6} + 6 x^{5} y + 15 x^{4} y^{2} + 20 x^{3} y^{3} + 15 x^{2} y^{4} + 6 x y^{5} + y^{6}$"
      ],
      "text/plain": [
       "x**6 + 6*x**5*y + 15*x**4*y**2 + 20*x**3*y**3 + 15*x**2*y**4 + 6*x*y**5 + y**6"
      ]
     },
     "execution_count": 34,
     "metadata": {},
     "output_type": "execute_result"
    }
   ],
   "source": [
    "x_050=Symbol('x')\n",
    "y_050=Symbol('y')\n",
    "expand((x_050+y_050) ** 6)"
   ]
  },
  {
   "cell_type": "code",
   "execution_count": 8,
   "id": "12b184df",
   "metadata": {},
   "outputs": [
    {
     "data": {
      "text/latex": [
       "$\\displaystyle \\tan{\\left(x \\right)}$"
      ],
      "text/plain": [
       "tan(x)"
      ]
     },
     "execution_count": 8,
     "metadata": {},
     "output_type": "execute_result"
    }
   ],
   "source": [
    "simplify(sin(x_050)/cos(x_050))"
   ]
  },
  {
   "cell_type": "code",
   "execution_count": 9,
   "id": "5a928ebd",
   "metadata": {},
   "outputs": [
    {
     "data": {
      "text/latex": [
       "$\\displaystyle sinx - x^{3 n + 1}$"
      ],
      "text/plain": [
       "sinx - x**(3*n + 1)"
      ]
     },
     "execution_count": 9,
     "metadata": {},
     "output_type": "execute_result"
    }
   ],
   "source": [
    "n_050=Symbol('n')\n",
    "simplify('sinx-(x)*(x)**(3*n)')"
   ]
  },
  {
   "cell_type": "code",
   "execution_count": 10,
   "id": "8092df74",
   "metadata": {},
   "outputs": [
    {
     "data": {
      "text/latex": [
       "$\\displaystyle a^{2} - b^{2}$"
      ],
      "text/plain": [
       "a**2 - b**2"
      ]
     },
     "execution_count": 10,
     "metadata": {},
     "output_type": "execute_result"
    }
   ],
   "source": [
    "a_050=Symbol('a')\n",
    "b_050=Symbol('b')\n",
    "ab_050=Symbol('ab')\n",
    "simplify('a**2-ab+ab-b**2')"
   ]
  },
  {
   "cell_type": "code",
   "execution_count": 12,
   "id": "df1a7674",
   "metadata": {},
   "outputs": [
    {
     "data": {
      "text/latex": [
       "$\\displaystyle \\frac{a^{4}}{12}$"
      ],
      "text/plain": [
       "a**4/12"
      ]
     },
     "execution_count": 12,
     "metadata": {},
     "output_type": "execute_result"
    }
   ],
   "source": [
    "integrate(integrate('a**2',a_050),a_050)"
   ]
  },
  {
   "cell_type": "code",
   "execution_count": 14,
   "id": "c787fb1b",
   "metadata": {},
   "outputs": [
    {
     "data": {
      "text/latex": [
       "$\\displaystyle 2 x + y^{2}$"
      ],
      "text/plain": [
       "2*x + y**2"
      ]
     },
     "execution_count": 14,
     "metadata": {},
     "output_type": "execute_result"
    }
   ],
   "source": [
    "simplify('2*x+y**2')"
   ]
  },
  {
   "cell_type": "code",
   "execution_count": 15,
   "id": "37fad15d",
   "metadata": {},
   "outputs": [
    {
     "data": {
      "text/latex": [
       "$\\displaystyle \\frac{3}{10}$"
      ],
      "text/plain": [
       "3/10"
      ]
     },
     "execution_count": 15,
     "metadata": {},
     "output_type": "execute_result"
    }
   ],
   "source": [
    "Rational(1,10)+Rational(1,5)"
   ]
  },
  {
   "cell_type": "code",
   "execution_count": 16,
   "id": "efee2203",
   "metadata": {},
   "outputs": [
    {
     "data": {
      "text/latex": [
       "$\\displaystyle \\cos{\\left(x \\right)}$"
      ],
      "text/plain": [
       "cos(x)"
      ]
     },
     "execution_count": 16,
     "metadata": {},
     "output_type": "execute_result"
    }
   ],
   "source": [
    "diff('sin(x)','x')"
   ]
  },
  {
   "cell_type": "code",
   "execution_count": 17,
   "id": "af632733",
   "metadata": {},
   "outputs": [
    {
     "data": {
      "text/latex": [
       "$\\displaystyle - \\cos{\\left(x \\right)}$"
      ],
      "text/plain": [
       "-cos(x)"
      ]
     },
     "execution_count": 17,
     "metadata": {},
     "output_type": "execute_result"
    }
   ],
   "source": [
    "import sympy\n",
    "from sympy import *\n",
    "integrate(sin(x),x)"
   ]
  },
  {
   "cell_type": "code",
   "execution_count": 8,
   "id": "2729c650",
   "metadata": {},
   "outputs": [
    {
     "data": {
      "text/latex": [
       "$\\displaystyle - \\sin{\\left(x \\right)}$"
      ],
      "text/plain": [
       "-sin(x)"
      ]
     },
     "execution_count": 8,
     "metadata": {},
     "output_type": "execute_result"
    }
   ],
   "source": [
    "diff('cos(x)','x')"
   ]
  },
  {
   "cell_type": "code",
   "execution_count": 9,
   "id": "4b1908e6",
   "metadata": {},
   "outputs": [
    {
     "data": {
      "text/latex": [
       "$\\displaystyle - \\sin{\\left(k \\right)}$"
      ],
      "text/plain": [
       "-sin(k)"
      ]
     },
     "execution_count": 9,
     "metadata": {},
     "output_type": "execute_result"
    }
   ],
   "source": [
    "diff('cos(k)','k')"
   ]
  },
  {
   "cell_type": "code",
   "execution_count": 10,
   "id": "a2028191",
   "metadata": {},
   "outputs": [
    {
     "data": {
      "text/latex": [
       "$\\displaystyle 2^{k}$"
      ],
      "text/plain": [
       "2**k"
      ]
     },
     "execution_count": 10,
     "metadata": {},
     "output_type": "execute_result"
    }
   ],
   "source": [
    "simplify('2**k')"
   ]
  },
  {
   "cell_type": "code",
   "execution_count": 13,
   "id": "95dff3e0",
   "metadata": {},
   "outputs": [
    {
     "data": {
      "text/latex": [
       "$\\displaystyle a^{6} + 6 a^{5} k + 15 a^{4} k^{2} + 20 a^{3} k^{3} + 15 a^{2} k^{4} + 6 a k^{5} + k^{6}$"
      ],
      "text/plain": [
       "a**6 + 6*a**5*k + 15*a**4*k**2 + 20*a**3*k**3 + 15*a**2*k**4 + 6*a*k**5 + k**6"
      ]
     },
     "execution_count": 13,
     "metadata": {},
     "output_type": "execute_result"
    }
   ],
   "source": [
    "expand('(k+a)**6')"
   ]
  },
  {
   "cell_type": "code",
   "execution_count": 18,
   "id": "97ebc92d",
   "metadata": {},
   "outputs": [
    {
     "data": {
      "text/latex": [
       "$\\displaystyle \\left\\{-1, 1, - i, i\\right\\}$"
      ],
      "text/plain": [
       "{-1, 1, -I, I}"
      ]
     },
     "execution_count": 18,
     "metadata": {},
     "output_type": "execute_result"
    }
   ],
   "source": [
    "solveset(x**4-1,x)"
   ]
  },
  {
   "cell_type": "code",
   "execution_count": 20,
   "id": "f0dbeef0",
   "metadata": {},
   "outputs": [
    {
     "name": "stdout",
     "output_type": "stream",
     "text": [
      "Matrix([[1, 2], [2, 1]])\n"
     ]
    }
   ],
   "source": [
    "A= Matrix([[1,2],[2,1]])\n",
    "print(A)"
   ]
  },
  {
   "cell_type": "code",
   "execution_count": 21,
   "id": "7f068231",
   "metadata": {},
   "outputs": [
    {
     "data": {
      "text/latex": [
       "$\\displaystyle \\left[\\begin{matrix}5 & 4\\\\4 & 5\\end{matrix}\\right]$"
      ],
      "text/plain": [
       "Matrix([\n",
       "[5, 4],\n",
       "[4, 5]])"
      ]
     },
     "execution_count": 21,
     "metadata": {},
     "output_type": "execute_result"
    }
   ],
   "source": [
    "A**2"
   ]
  },
  {
   "cell_type": "code",
   "execution_count": 22,
   "id": "90016538",
   "metadata": {},
   "outputs": [
    {
     "data": {
      "text/latex": [
       "$\\displaystyle \\left[\\begin{matrix}-1 & -2\\\\-2 & -1\\end{matrix}\\right]$"
      ],
      "text/plain": [
       "Matrix([\n",
       "[-1, -2],\n",
       "[-2, -1]])"
      ]
     },
     "execution_count": 22,
     "metadata": {},
     "output_type": "execute_result"
    }
   ],
   "source": [
    "A*-1"
   ]
  },
  {
   "cell_type": "code",
   "execution_count": 30,
   "id": "ae21613e",
   "metadata": {},
   "outputs": [
    {
     "name": "stdout",
     "output_type": "stream",
     "text": [
      "Enter the string :111\n",
      "Rejected\n",
      "Enter the string :11\n",
      "Accepted\n",
      "Enter the string :101\n",
      "Accepted\n"
     ]
    }
   ],
   "source": [
    "from automata.fa.dfa import DFA\n",
    "dfa=DFA(\n",
    "    states={'q0','q1','q2'},\n",
    "    input_symbols={'0','1'},\n",
    "    transitions={\n",
    "        'q0':{'0':'q0','1':'q1'},\n",
    "        'q1':{'0':'q1','1':'q2'},\n",
    "        'q2':{'0':'q2','1':'q1'},\n",
    "    },\n",
    "    initial_state='q0',\n",
    "    final_states={'q2'}\n",
    ")\n",
    "for i in range(1,4):\n",
    "    num = input(\"Enter the string :\")\n",
    "    if(dfa.accepts_input(num)):\n",
    "        print(\"Accepted\")\n",
    "    else:\n",
    "        print(\"Rejected\")"
   ]
  },
  {
   "cell_type": "code",
   "execution_count": 31,
   "id": "9ae4bfc6",
   "metadata": {},
   "outputs": [
    {
     "data": {
      "text/latex": [
       "$\\displaystyle a^{2} - a b + b^{2}$"
      ],
      "text/plain": [
       "a**2 - a*b + b**2"
      ]
     },
     "execution_count": 31,
     "metadata": {},
     "output_type": "execute_result"
    }
   ],
   "source": [
    "simplify('a**2+b**2-a*b')"
   ]
  },
  {
   "cell_type": "code",
   "execution_count": 36,
   "id": "5c83031a",
   "metadata": {},
   "outputs": [
    {
     "data": {
      "text/latex": [
       "$\\displaystyle y + 1$"
      ],
      "text/plain": [
       "y + 1"
      ]
     },
     "execution_count": 36,
     "metadata": {},
     "output_type": "execute_result"
    }
   ],
   "source": [
    "simplify((x + x * y_050 )/ x)"
   ]
  },
  {
   "cell_type": "code",
   "execution_count": null,
   "id": "49dd0efc",
   "metadata": {},
   "outputs": [],
   "source": []
  }
 ],
 "metadata": {
  "kernelspec": {
   "display_name": "Python 3 (ipykernel)",
   "language": "python",
   "name": "python3"
  },
  "language_info": {
   "codemirror_mode": {
    "name": "ipython",
    "version": 3
   },
   "file_extension": ".py",
   "mimetype": "text/x-python",
   "name": "python",
   "nbconvert_exporter": "python",
   "pygments_lexer": "ipython3",
   "version": "3.9.7"
  }
 },
 "nbformat": 4,
 "nbformat_minor": 5
}
