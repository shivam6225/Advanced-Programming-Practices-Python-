{
 "cells": [
  {
   "cell_type": "markdown",
   "id": "f5f36c24",
   "metadata": {},
   "source": [
    "1.Write a Python class named SRMIST with six attributes school, dept1,\n",
    "dept2, dept2 and dept3. Add a new attribute specialization and display the\n",
    "entire attribute and their values of the said class. Now remove the dept1\n",
    "and dept2 attribute and display the entire attribute with values."
   ]
  },
  {
   "cell_type": "code",
   "execution_count": 6,
   "id": "f93f9f1c",
   "metadata": {
    "scrolled": true
   },
   "outputs": [
    {
     "name": "stdout",
     "output_type": "stream",
     "text": [
      "School of Computing\n",
      "Department:  Data Science\n",
      "Specialization:  Big Data Analytics\n"
     ]
    }
   ],
   "source": [
    "class SRMIST:\n",
    "    school=\"School of Computing\"\n",
    "    dept1=\"Nil\"\n",
    "    dept2=\"Nil\"\n",
    "    dept3=\"Data Science\"\n",
    "    specilization=\"Big Data Analytics\"\n",
    "    def display(self):\n",
    "        print(self.school)\n",
    "        print(\"Department: \",self.dept3)\n",
    "        print(\"Specialization: \",self.specilization)\n",
    "\n",
    "student = SRMIST()\n",
    "student.display()"
   ]
  },
  {
   "cell_type": "markdown",
   "id": "dfdcb68e",
   "metadata": {},
   "source": [
    "2.Write a Python program to crate four empty classes, CTECH,\n",
    "CINTEL, NWC and DSBS. Now create some instances and check\n",
    "whether they are instances of the said classes or not. Also, check whether\n",
    "the said classes are subclasses of the built-in object class or not."
   ]
  },
  {
   "cell_type": "code",
   "execution_count": 19,
   "id": "9607f918",
   "metadata": {},
   "outputs": [
    {
     "name": "stdout",
     "output_type": "stream",
     "text": [
      "True\n",
      "True\n",
      "False\n",
      "True\n",
      "To find whether class is subclass of built-in object class: \n",
      "True\n",
      "True\n",
      "True\n",
      "True\n"
     ]
    }
   ],
   "source": [
    "class CTECH:\n",
    "    def display(self):\n",
    "        print(\"This is CTECH class\")\n",
    "class CINTEL:\n",
    "    def display(self):\n",
    "        print(\"This is CINTEL class\")\n",
    "class NWC:\n",
    "    def display(self):\n",
    "        print(\"This is NWC class\")\n",
    "class DSBS:\n",
    "    def display(self):\n",
    "        print(\"This is DSBS class\")\n",
    "a = CTECH()\n",
    "print(isinstance(a,CTECH))\n",
    "b = CINTEL()\n",
    "print(isinstance(b,CINTEL))\n",
    "c = NWC()\n",
    "print(isinstance(a,NWC))\n",
    "d = DSBS()\n",
    "print(isinstance(d,DSBS))\n",
    "print(\"To find whether class is subclass of built-in object class: \")\n",
    "print(issubclass(CTECH,object))\n",
    "print(issubclass(CINTEL,object))\n",
    "print(issubclass(NWC,object))\n",
    "print(issubclass(DSBS,object))"
   ]
  },
  {
   "cell_type": "markdown",
   "id": "bc4aa899",
   "metadata": {},
   "source": [
    "3.Write a program to print the names of the departments students by\n",
    "creating a Dept class. If no name is passed while creating an object of the\n",
    "Dept class, then the name should be \"SCO\", otherwise the name should\n",
    "be equal to the String value passed while creating the object of the Dept\n",
    "class."
   ]
  },
  {
   "cell_type": "code",
   "execution_count": 4,
   "id": "7eb67b8e",
   "metadata": {},
   "outputs": [
    {
     "name": "stdout",
     "output_type": "stream",
     "text": [
      "Enter the Department Name:\n",
      "Department Name: SCO\n"
     ]
    }
   ],
   "source": [
    "class Dept:\n",
    "    DeptName = 'Nil'\n",
    "    def __init__(self,name):\n",
    "        if name:\n",
    "            self.DeptName=name\n",
    "        else:\n",
    "            self.DeptName='SCO'\n",
    "    def display(self):\n",
    "        print(\"Department Name:\",self.DeptName)\n",
    "\n",
    "name=str(input(\"Enter the Department Name:\"))\n",
    "obj=Dept(name)\n",
    "obj.display()"
   ]
  },
  {
   "cell_type": "markdown",
   "id": "295028c1",
   "metadata": {},
   "source": [
    "4.Create a class named 'Rectangle' with two data members- length and\n",
    "breadth and a function to calculate the area which is 'length*breadth'. The\n",
    "class has three constructors which are :\n",
    "\n",
    "1 - having no parameter - values of both length and breadth are assigned\n",
    "zero.\n",
    "\n",
    "2 - having two numbers as parameters - the two numbers are assigned as\n",
    "length and breadth respectively.\n",
    "\n",
    "3 - having one number as parameter - both length and breadth are\n",
    "assigned that number.\n",
    "\n",
    "Now, create objects of the 'Rectangle' class having none, one and two\n",
    "parameters and print their areas."
   ]
  },
  {
   "cell_type": "code",
   "execution_count": 54,
   "id": "e8208c55",
   "metadata": {},
   "outputs": [
    {
     "name": "stdout",
     "output_type": "stream",
     "text": [
      "0\n",
      "25\n",
      "120\n"
     ]
    }
   ],
   "source": [
    "class Rectangle:\n",
    "    Length=int()\n",
    "    Breadth=int()\n",
    "    def __init__(self, *args):\n",
    "        if len(args)==0:\n",
    "            self.Length=0\n",
    "            self.Breadth=0\n",
    "        elif len(args)==1:\n",
    "            self.Length=self.Breadth=args[0]\n",
    "        elif len(args)==2:\n",
    "            self.Length=args[0]\n",
    "            self.Breadth=args[1]\n",
    "    def cal_area(self):\n",
    "        print(self.Length*self.Breadth)\n",
    "\n",
    "obj1 = Rectangle()\n",
    "obj1.cal_area()\n",
    "obj1 = Rectangle(5)\n",
    "obj1.cal_area()\n",
    "obj1 = Rectangle(10,12)\n",
    "obj1.cal_area()\n",
    "\n",
    "    \n"
   ]
  },
  {
   "cell_type": "markdown",
   "id": "f6b339cb",
   "metadata": {},
   "source": [
    "5.Create a class named 'PrintDT' to print various numbers of different\n",
    "datatypes by creating different functions with the same name\n",
    "'python_data’ having a parameter for each datatype. (example : tuple, list,\n",
    "string)"
   ]
  },
  {
   "cell_type": "code",
   "execution_count": 35,
   "id": "af11bc6e",
   "metadata": {},
   "outputs": [
    {
     "name": "stdout",
     "output_type": "stream",
     "text": [
      "String: string\n",
      "List: [1, 2, 3, 4, 5]\n",
      "Tuple: (1, 2, 3, 4, 5)\n"
     ]
    }
   ],
   "source": [
    "from multipledispatch import dispatch\n",
    "class PrintDT:\n",
    "    n= None\n",
    "    \n",
    "    @dispatch(str)\n",
    "    def python_data(self,n):\n",
    "        self.n=n\n",
    "        print(\"String:\",n)\n",
    "    \n",
    "    @dispatch(list)\n",
    "    def python_data(self,n):\n",
    "        self.n=n\n",
    "        print(\"List:\",n)\n",
    "    \n",
    "    @dispatch(tuple)\n",
    "    def python_data(self,n):\n",
    "        self.n=n\n",
    "        print(\"Tuple:\",n)\n",
    "\n",
    "List=[1,2,3,4,5]\n",
    "tup=(1,2,3,4,5)\n",
    "str1='string'\n",
    "\n",
    "obj=PrintDT()\n",
    "obj.python_data(str1)\n",
    "obj.python_data(List)\n",
    "obj.python_data(tup)"
   ]
  },
  {
   "cell_type": "markdown",
   "id": "da38f480",
   "metadata": {},
   "source": [
    "6.A student from SRMIST has his/her money deposited Rs.15000,\n",
    "Rs.30000 and Rs. 40,000 in banks-CUB, HDFC and Indian Bank\n",
    "respectively. We have to print the money deposited by him/her in a\n",
    "particular bank.\n",
    "\n",
    "Create a class named 'Banks_SRMIST' with a function 'getBalance'\n",
    "which returns 0. Make its three subclasses named 'CUB', 'HDFC' and\n",
    "'Indian_Bank' with a function with the same name 'getBalance' which\n",
    "returns the amount deposited in that particular bank. Call the function\n",
    "'getBalance' by the object of each of the three banks."
   ]
  },
  {
   "cell_type": "code",
   "execution_count": 14,
   "id": "02bd3572",
   "metadata": {},
   "outputs": [
    {
     "name": "stdout",
     "output_type": "stream",
     "text": [
      "Balance in CUB: 15000\n",
      "Balance in HDFC: 30000\n",
      "Balance in Indian Bank: 45000\n"
     ]
    }
   ],
   "source": [
    "class Banks_SRMIST:\n",
    "    amount=int()\n",
    "    def __init__(self,amount):\n",
    "        self.amount=amount\n",
    "    def getBalance(self):\n",
    "        return amount\n",
    "    \n",
    "class CUB(Banks_SRMIST):    \n",
    "    def getBalance(self):\n",
    "        print(\"Balance in CUB:\",self.amount)\n",
    "\n",
    "class HDFC(Banks_SRMIST):    \n",
    "    def getBalance(self):\n",
    "        print(\"Balance in HDFC:\",self.amount)\n",
    "\n",
    "class Indian_bank(Banks_SRMIST):    \n",
    "    def getBalance(self):\n",
    "        print(\"Balance in Indian Bank:\",self.amount)\n",
    "\n",
    "obj1=CUB(15000)\n",
    "obj1.getBalance()\n",
    "\n",
    "obj2=HDFC(30000)\n",
    "obj2.getBalance()\n",
    "\n",
    "obj3=Indian_bank(45000)\n",
    "obj3.getBalance()"
   ]
  },
  {
   "cell_type": "markdown",
   "id": "ef770e98",
   "metadata": {},
   "source": [
    "7.Create a Time class and initialize it with hours and minutes.\n",
    "\n",
    "1. Make a method addTime which should take two time object and add\n",
    "them. E.g.- (2 hour and 50 min)+(1 hr and 20 min) is (4 hr and 10 min)\n",
    "2. Make a method displayTime which should print the time.\n",
    "3. Make a method DisplayMinute which should display the total minutes\n",
    "in the Time. E.g.- (1 hr 2 min) should display 62 minute."
   ]
  },
  {
   "cell_type": "code",
   "execution_count": 78,
   "id": "c0d908c9",
   "metadata": {},
   "outputs": [
    {
     "name": "stdout",
     "output_type": "stream",
     "text": [
      "Time1:\n",
      "2 hours and 20 minutes\n",
      "Minutes: 140\n",
      "Time2:\n",
      "1 hours and 55 minutes\n",
      "Minutes: 115\n",
      "Adding both Times:\n",
      "4 hours and 15 minutes\n",
      "Minutes: 255\n"
     ]
    }
   ],
   "source": [
    "class Time:\n",
    "    hours=minutes=int()\n",
    "    def __init__(self,hours,minutes):\n",
    "        self.hours=hours\n",
    "        self.minutes=minutes\n",
    "        \n",
    "    def __add__(self,obj2):\n",
    "        tempmin=self.minutes+obj2.minutes\n",
    "        temphrs=int(tempmin/60)\n",
    "        tempmin=tempmin%60\n",
    "        self.minutes=tempmin\n",
    "        temphrs+=self.hours+obj2.hours\n",
    "        \n",
    "        self.hours=temphrs\n",
    "    def displayTime(self):\n",
    "        print(self.hours,\"hours and\",self.minutes,\"minutes\")\n",
    "        \n",
    "    def DisplayMinute(self):\n",
    "        temp=(self.hours)*60\n",
    "        print(\"Minutes:\",temp+self.minutes)\n",
    "\n",
    "print(\"Time1:\")\n",
    "obj1 = Time(2,20)\n",
    "obj1.displayTime()\n",
    "obj1.DisplayMinute()\n",
    "print(\"Time2:\")\n",
    "obj2 = Time(1,55)\n",
    "obj2.displayTime()\n",
    "obj2.DisplayMinute()\n",
    "print(\"Adding both Times:\")\n",
    "obj1+obj2\n",
    "obj1.displayTime()\n",
    "obj1.DisplayMinute()"
   ]
  },
  {
   "cell_type": "markdown",
   "id": "68a19332",
   "metadata": {},
   "source": [
    "8.Write a program to print the area and perimeter of a triangle having\n",
    "sides of 3, 4 and 5 units by creating a class named 'Triangle' with a\n",
    "function to print the area and perimeter."
   ]
  },
  {
   "cell_type": "code",
   "execution_count": 2,
   "id": "8438547b",
   "metadata": {},
   "outputs": [
    {
     "name": "stdout",
     "output_type": "stream",
     "text": [
      "12\n",
      "6.0\n"
     ]
    }
   ],
   "source": [
    "import math\n",
    "class Triangle:\n",
    "    def __init__(self,a,b,c):\n",
    "        self.a=a\n",
    "        self.b=b\n",
    "        self.c=c\n",
    "    def perimeter(self):\n",
    "        print(self.a+self.b+self.c)\n",
    "    def area(self):\n",
    "        s= (self.a+self.b+self.c)/2\n",
    "        area = (s*(s-self.a)*(s-self.b)*(s-self.c)) **0.5\n",
    "        print(area)\n",
    "obj1 = Triangle(3,4,5)\n",
    "obj1.perimeter()\n",
    "obj1.area()\n",
    "    "
   ]
  },
  {
   "cell_type": "code",
   "execution_count": null,
   "id": "6e3b5d46",
   "metadata": {},
   "outputs": [],
   "source": []
  }
 ],
 "metadata": {
  "kernelspec": {
   "display_name": "Python 3 (ipykernel)",
   "language": "python",
   "name": "python3"
  },
  "language_info": {
   "codemirror_mode": {
    "name": "ipython",
    "version": 3
   },
   "file_extension": ".py",
   "mimetype": "text/x-python",
   "name": "python",
   "nbconvert_exporter": "python",
   "pygments_lexer": "ipython3",
   "version": "3.9.7"
  }
 },
 "nbformat": 4,
 "nbformat_minor": 5
}
